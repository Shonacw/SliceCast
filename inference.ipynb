{
 "cells": [
  {
   "cell_type": "markdown",
   "metadata": {},
   "source": [
    "# Inference\n",
    "This notebook is dedicated to testing and visualizing results for both the wiki and podcast datasets\n",
    "\n",
    "Note: \n",
    "Apologies for the gratuitous warnings. Tensorflow is aware of these issues and has rectified them in later versions of TensorFlow. Unfortunately, they persist for version 1.13. "
   ]
  },
  {
   "cell_type": "code",
   "execution_count": 1,
   "metadata": {},
   "outputs": [
    {
     "name": "stderr",
     "output_type": "stream",
     "text": [
      "WARNING: Logging before flag parsing goes to stderr.\n",
      "W0511 16:13:34.655141 140343111313152 __init__.py:56] Some hub symbols are not available because TensorFlow version is less than 1.14\n",
      "Using TensorFlow backend.\n",
      "/home/bmmidei/.local/lib/python3.5/site-packages/sklearn/externals/joblib/__init__.py:15: DeprecationWarning: sklearn.externals.joblib is deprecated in 0.21 and will be removed in 0.23. Please import this functionality directly from joblib, which can be installed with: pip install joblib. If this warning is raised when loading pickled models, you may need to re-serialize those models with scikit-learn 0.21+.\n",
      "  warnings.warn(msg, category=DeprecationWarning)\n"
     ]
    },
    {
     "name": "stdout",
     "output_type": "stream",
     "text": [
      "importing hub\n",
      "WARNING:tensorflow:From /home/bmmidei/.local/lib/python3.5/site-packages/tensorflow/python/ops/control_flow_ops.py:3632: colocate_with (from tensorflow.python.framework.ops) is deprecated and will be removed in a future version.\n",
      "Instructions for updating:\n",
      "Colocations handled automatically by placer.\n"
     ]
    },
    {
     "name": "stderr",
     "output_type": "stream",
     "text": [
      "W0511 16:13:36.913012 140343111313152 deprecation.py:323] From /home/bmmidei/.local/lib/python3.5/site-packages/tensorflow/python/ops/control_flow_ops.py:3632: colocate_with (from tensorflow.python.framework.ops) is deprecated and will be removed in a future version.\n",
      "Instructions for updating:\n",
      "Colocations handled automatically by placer.\n"
     ]
    }
   ],
   "source": [
    "from src.SliceNet import SliceNet\n",
    "from src.netUtils import getSingleExample\n",
    "import matplotlib.pyplot as plt\n",
    "from pathlib import Path\n",
    "import numpy as np\n",
    "import pandas as pd\n",
    "import seaborn as sns\n",
    "import random\n",
    "import math\n",
    "\n",
    "import warnings\n",
    "warnings.filterwarnings('ignore')\n",
    "\n",
    "import tensorflow as tf\n",
    "tf.logging.set_verbosity(tf.logging.ERROR)\n",
    "import os\n",
    "os.environ['TF_CPP_MIN_LOG_LEVEL'] = '3'\n",
    "if type(tf.contrib) != type(tf): tf.contrib._warning = None\n",
    "%load_ext autoreload\n",
    "%autoreload 2"
   ]
  },
  {
   "cell_type": "code",
   "execution_count": 2,
   "metadata": {},
   "outputs": [],
   "source": [
    "# Choose whether to use the base network or the network with self-attention\n",
    "attention = True\n",
    "\n",
    "# Current best networks\n",
    "best_base_wiki = '/home/bmmidei/SliceCast/models/04_20_2019_2300_final.h5'\n",
    "best_base_podcast = '/home/bmmidei/SliceCast/models/04_26_2019_1000_podcast.h5'\n",
    "best_attn_wiki = '/home/bmmidei/SliceCast/models/05_03_2019_0800_attn.h5'\n",
    "best_attn_podcast = '/home/bmmidei/SliceCast/models/05_02_2019_2200_attn_podcast.h5'\n",
    "\n",
    "if attention:\n",
    "    weights_wiki = best_attn_wiki\n",
    "    weights_podcast = best_attn_podcast\n",
    "else:\n",
    "    weights_wiki = best_base_wiki\n",
    "    weights_podcast = best_base_podcast\n",
    "\n",
    "net = SliceNet(classification=True,\n",
    "               class_weights=[1.0,10,0.2],\n",
    "               attention=attention)"
   ]
  },
  {
   "cell_type": "markdown",
   "metadata": {},
   "source": [
    "## Sample predictions on unseen wiki articles\n",
    "Note that this section relies on wikipedia"
   ]
  },
  {
   "cell_type": "code",
   "execution_count": 3,
   "metadata": {},
   "outputs": [
    {
     "ename": "ValueError",
     "evalue": "Sample larger than population",
     "output_type": "error",
     "traceback": [
      "\u001b[0;31m---------------------------------------------------------------------------\u001b[0m",
      "\u001b[0;31mValueError\u001b[0m                                Traceback (most recent call last)",
      "\u001b[0;32m<ipython-input-3-4aa1122eff10>\u001b[0m in \u001b[0;36m<module>\u001b[0;34m\u001b[0m\n\u001b[1;32m      2\u001b[0m \u001b[0mfiles\u001b[0m \u001b[0;34m=\u001b[0m \u001b[0;34m[\u001b[0m\u001b[0mstr\u001b[0m\u001b[0;34m(\u001b[0m\u001b[0mx\u001b[0m\u001b[0;34m)\u001b[0m \u001b[0;32mfor\u001b[0m \u001b[0mx\u001b[0m \u001b[0;32min\u001b[0m \u001b[0mdataPath\u001b[0m\u001b[0;34m.\u001b[0m\u001b[0mglob\u001b[0m\u001b[0;34m(\u001b[0m\u001b[0;34m'**/*'\u001b[0m\u001b[0;34m)\u001b[0m \u001b[0;32mif\u001b[0m \u001b[0mx\u001b[0m\u001b[0;34m.\u001b[0m\u001b[0msuffix\u001b[0m\u001b[0;34m==\u001b[0m\u001b[0;34m'.hdf5'\u001b[0m\u001b[0;34m]\u001b[0m\u001b[0;34m\u001b[0m\u001b[0m\n\u001b[1;32m      3\u001b[0m \u001b[0;34m\u001b[0m\u001b[0m\n\u001b[0;32m----> 4\u001b[0;31m \u001b[0mmask\u001b[0m \u001b[0;34m=\u001b[0m \u001b[0mrandom\u001b[0m\u001b[0;34m.\u001b[0m\u001b[0msample\u001b[0m\u001b[0;34m(\u001b[0m\u001b[0mrange\u001b[0m\u001b[0;34m(\u001b[0m\u001b[0;36m0\u001b[0m\u001b[0;34m,\u001b[0m\u001b[0mlen\u001b[0m\u001b[0;34m(\u001b[0m\u001b[0mfiles\u001b[0m\u001b[0;34m)\u001b[0m\u001b[0;34m)\u001b[0m\u001b[0;34m,\u001b[0m \u001b[0;36m1\u001b[0m\u001b[0;34m)\u001b[0m\u001b[0;34m\u001b[0m\u001b[0m\n\u001b[0m\u001b[1;32m      5\u001b[0m \u001b[0;34m\u001b[0m\u001b[0m\n\u001b[1;32m      6\u001b[0m \u001b[0;31m# randomly select a file to test\u001b[0m\u001b[0;34m\u001b[0m\u001b[0;34m\u001b[0m\u001b[0m\n",
      "\u001b[0;32m/usr/lib/python3.5/random.py\u001b[0m in \u001b[0;36msample\u001b[0;34m(self, population, k)\u001b[0m\n\u001b[1;32m    322\u001b[0m         \u001b[0mn\u001b[0m \u001b[0;34m=\u001b[0m \u001b[0mlen\u001b[0m\u001b[0;34m(\u001b[0m\u001b[0mpopulation\u001b[0m\u001b[0;34m)\u001b[0m\u001b[0;34m\u001b[0m\u001b[0m\n\u001b[1;32m    323\u001b[0m         \u001b[0;32mif\u001b[0m \u001b[0;32mnot\u001b[0m \u001b[0;36m0\u001b[0m \u001b[0;34m<=\u001b[0m \u001b[0mk\u001b[0m \u001b[0;34m<=\u001b[0m \u001b[0mn\u001b[0m\u001b[0;34m:\u001b[0m\u001b[0;34m\u001b[0m\u001b[0m\n\u001b[0;32m--> 324\u001b[0;31m             \u001b[0;32mraise\u001b[0m \u001b[0mValueError\u001b[0m\u001b[0;34m(\u001b[0m\u001b[0;34m\"Sample larger than population\"\u001b[0m\u001b[0;34m)\u001b[0m\u001b[0;34m\u001b[0m\u001b[0m\n\u001b[0m\u001b[1;32m    325\u001b[0m         \u001b[0mresult\u001b[0m \u001b[0;34m=\u001b[0m \u001b[0;34m[\u001b[0m\u001b[0;32mNone\u001b[0m\u001b[0;34m]\u001b[0m \u001b[0;34m*\u001b[0m \u001b[0mk\u001b[0m\u001b[0;34m\u001b[0m\u001b[0m\n\u001b[1;32m    326\u001b[0m         \u001b[0msetsize\u001b[0m \u001b[0;34m=\u001b[0m \u001b[0;36m21\u001b[0m        \u001b[0;31m# size of a small set minus size of an empty list\u001b[0m\u001b[0;34m\u001b[0m\u001b[0m\n",
      "\u001b[0;31mValueError\u001b[0m: Sample larger than population"
     ]
    }
   ],
   "source": [
    "dataPath = Path('/home/bmmidei/SliceCast/data/test/hdf5')\n",
    "files = [str(x) for x in dataPath.glob('**/*') if x.suffix=='.hdf5']\n",
    "\n",
    "mask = random.sample(range(0,len(files)), 1)\n",
    "\n",
    "# randomly select a file to test\n",
    "test_file = [x for (i,x) in enumerate(files) if i in mask][0]"
   ]
  },
  {
   "cell_type": "code",
   "execution_count": 4,
   "metadata": {},
   "outputs": [
    {
     "ename": "NameError",
     "evalue": "name 'test_file' is not defined",
     "output_type": "error",
     "traceback": [
      "\u001b[0;31m---------------------------------------------------------------------------\u001b[0m",
      "\u001b[0;31mNameError\u001b[0m                                 Traceback (most recent call last)",
      "\u001b[0;32m<ipython-input-4-21871537bfc2>\u001b[0m in \u001b[0;36m<module>\u001b[0;34m\u001b[0m\n\u001b[1;32m      2\u001b[0m \u001b[0mnum_samples\u001b[0m \u001b[0;34m=\u001b[0m \u001b[0;36m20\u001b[0m\u001b[0;34m\u001b[0m\u001b[0m\n\u001b[1;32m      3\u001b[0m \u001b[0;34m\u001b[0m\u001b[0m\n\u001b[0;32m----> 4\u001b[0;31m preds, labels, pk = net.predict(test_file=test_file,\n\u001b[0m\u001b[1;32m      5\u001b[0m                                 \u001b[0mnum_samples\u001b[0m\u001b[0;34m=\u001b[0m\u001b[0mnum_samples\u001b[0m\u001b[0;34m,\u001b[0m\u001b[0;34m\u001b[0m\u001b[0m\n\u001b[1;32m      6\u001b[0m                                 \u001b[0mweights_path\u001b[0m\u001b[0;34m=\u001b[0m\u001b[0mweights_wiki\u001b[0m\u001b[0;34m,\u001b[0m\u001b[0;34m\u001b[0m\u001b[0m\n",
      "\u001b[0;31mNameError\u001b[0m: name 'test_file' is not defined"
     ]
    }
   ],
   "source": [
    "k = 4\n",
    "num_samples = 20\n",
    "\n",
    "preds, labels, pk = net.predict(test_file=test_file,\n",
    "                                num_samples=num_samples,\n",
    "                                weights_path=weights_wiki,\n",
    "                                k=k)\n",
    "print('Average PK score with k={} on {} examples is: {:0.3f}'.format(k, num_samples, pk))"
   ]
  },
  {
   "cell_type": "code",
   "execution_count": 6,
   "metadata": {},
   "outputs": [],
   "source": [
    "np.set_printoptions(suppress=True)\n",
    "\n",
    "preds = np.argmax(preds, axis=2)\n",
    "labels = np.argmax(labels, axis=2)"
   ]
  },
  {
   "cell_type": "code",
   "execution_count": 7,
   "metadata": {},
   "outputs": [
    {
     "data": {
      "text/plain": [
       "<matplotlib.axes._subplots.AxesSubplot at 0x7f64b04512b0>"
      ]
     },
     "execution_count": 7,
     "metadata": {},
     "output_type": "execute_result"
    },
    {
     "data": {
      "image/png": "[encoded data removed]",
      "text/plain": [
       "<Figure size 720x360 with 2 Axes>"
      ]
     },
     "metadata": {},
     "output_type": "display_data"
    }
   ],
   "source": [
    "# Choose the document you want to examine\n",
    "# You can keep running this cell with different indices to visualize different\n",
    "# documents within this batch of testing\n",
    "idx = 6\n",
    "\n",
    "df = pd.DataFrame()\n",
    "df['preds'] = preds[idx,:]\n",
    "df['labels'] = labels[idx,:]\n",
    "df['sent_number'] = df.index\n",
    "\n",
    "fig, axes = plt.subplots(nrows=2, ncols=1)\n",
    "\n",
    "df.plot(x='sent_number', y='preds', figsize=(10,5), grid=True, ax=axes[0])\n",
    "df.plot(x='sent_number', y='labels', figsize=(10,5), grid=True, ax=axes[1], color='green')"
   ]
  },
  {
   "cell_type": "markdown",
   "metadata": {},
   "source": [
    "## Sample predictions on unseen podcast data"
   ]
  },
  {
   "cell_type": "code",
   "execution_count": 3,
   "metadata": {},
   "outputs": [
    {
     "name": "stdout",
     "output_type": "stream",
     "text": [
      "Starting Testing\n",
      "Loaded weights from disk\n",
      "Average PK score with k=33 on 2 examples is: 0.336\n"
     ]
    }
   ],
   "source": [
    "test_file = '/home/bmmidei/SliceCast/data/podcasts/hdf5/batch0_0.hdf5'\n",
    "k = 33\n",
    "num_samples = 2\n",
    "preds, labels, pk = net.predict(test_file=test_file,\n",
    "                    num_samples=num_samples,\n",
    "                    weights_path=weights_podcast,\n",
    "                    k=k)\n",
    "\n",
    "print('Average PK score with k={} on {} examples is: {:0.3f}'.format(k, num_samples, pk))"
   ]
  },
  {
   "cell_type": "code",
   "execution_count": 4,
   "metadata": {},
   "outputs": [],
   "source": [
    "np.set_printoptions(suppress=True)\n",
    "\n",
    "preds = np.argmax(preds, axis=2)\n",
    "labels = np.argmax(labels, axis=2)"
   ]
  },
  {
   "cell_type": "code",
   "execution_count": 5,
   "metadata": {},
   "outputs": [
    {
     "data": {
      "text/plain": [
       "<matplotlib.axes._subplots.AxesSubplot at 0x7f7172ee50f0>"
      ]
     },
     "execution_count": 5,
     "metadata": {},
     "output_type": "execute_result"
    },
    {
     "data": {
      "image/png": "[encoded data removed]",
      "text/plain": [
       "<Figure size 720x360 with 2 Axes>"
      ]
     },
     "metadata": {
      "needs_background": "light"
     },
     "output_type": "display_data"
    }
   ],
   "source": [
    "# Choose the document you want to examine\n",
    "idx = 1\n",
    "\n",
    "df = pd.DataFrame()\n",
    "df['preds'] = preds[idx,:]\n",
    "df['labels'] = labels[idx,:]\n",
    "df['sent_number'] = df.index\n",
    "\n",
    "fig, axes = plt.subplots(nrows=2, ncols=1)\n",
    "\n",
    "df.plot(x='sent_number', y='preds', figsize=(10,5), grid=True, ax=axes[0])\n",
    "df.plot(x='sent_number', y='labels', figsize=(10,5), grid=True, ax=axes[1], color='green')"
   ]
  },
  {
   "cell_type": "markdown",
   "metadata": {},
   "source": [
    "## Predictions on a single text file"
   ]
  },
  {
   "cell_type": "code",
   "execution_count": 3,
   "metadata": {},
   "outputs": [
    {
     "name": "stdout",
     "output_type": "stream",
     "text": [
      "Starting Testing\n",
      "Loaded weights from disk\n"
     ]
    }
   ],
   "source": [
    "text_file = '/home/bmmidei/SliceCast/data/podcasts/with_timestamps/joe1254.txt'\n",
    "is_labeled = True\n",
    "weights_path = weights_podcast # transfer learning\n",
    "\n",
    "sents, labels = getSingleExample(fname=text_file, is_labeled=is_labeled)\n",
    "sents = np.expand_dims(sents, axis=0)\n",
    "\n",
    "preds = net.singlePredict(sents, weights_path=weights_path)"
   ]
  },
  {
   "cell_type": "code",
   "execution_count": 4,
   "metadata": {},
   "outputs": [
    {
     "data": {
      "text/plain": [
       "<matplotlib.axes._subplots.AxesSubplot at 0x7fa360b07f98>"
      ]
     },
     "execution_count": 4,
     "metadata": {},
     "output_type": "execute_result"
    },
    {
     "data": {
      "image/png": "[encoded data removed]",
      "text/plain": [
       "<Figure size 720x360 with 2 Axes>"
      ]
     },
     "metadata": {
      "needs_background": "light"
     },
     "output_type": "display_data"
    }
   ],
   "source": [
    "# Place data into a pandas dataframe for analysis\n",
    "df = pd.DataFrame()\n",
    "\n",
    "preds = np.argmax(np.squeeze(preds), axis=-1)\n",
    "df['raw_sentences'] = sents[0]\n",
    "if is_labeled:\n",
    "    df['labels'] = labels\n",
    "df['preds'] = preds\n",
    "df['sent_number'] = df.index\n",
    "\n",
    "fig, axes = plt.subplots(nrows=2, ncols=1)\n",
    "\n",
    "df.plot(x='sent_number', y='preds', figsize=(10,5), grid=True, ax=axes[0])\n",
    "df.plot(x='sent_number', y='labels', figsize=(10,5), grid=True, ax=axes[1], color='green')"
   ]
  },
  {
   "cell_type": "markdown",
   "metadata": {},
   "source": [
    "## Keyword Extraction\n",
    "The following cells are experimental code to extract keywords for each segment in order to provide context for each segment."
   ]
  },
  {
   "cell_type": "code",
   "execution_count": 6,
   "metadata": {},
   "outputs": [
    {
     "name": "stderr",
     "output_type": "stream",
     "text": [
      "[nltk_data] Downloading package stopwords to\n",
      "[nltk_data]     /home/bmmidei/nltk_data...\n",
      "[nltk_data]   Unzipping corpora/stopwords.zip.\n"
     ]
    }
   ],
   "source": [
    "from src.postprocess import getSummaries, getTimeStamps\n",
    "import nltk\n",
    "nltk.download('stopwords')\n",
    "\n",
    "\n",
    "keywords = getSummaries(sents[0], preds)\n",
    "stamps = getTimeStamps(sents[0], '/home/bmmidei/SliceCast/data/podcasts/with_timestamps/joe1254.json', preds)"
   ]
  },
  {
   "cell_type": "code",
   "execution_count": 7,
   "metadata": {},
   "outputs": [
    {
     "name": "stdout",
     "output_type": "stream",
     "text": [
      "0:0['people', 'things', 'something']\n",
      "2:58['people', 'medication today', 'opioids']\n",
      "37:51['ton', 'loot', 'sure']\n",
      "38:1['people', 'lot', 'story']\n",
      "41:48['somebody', 'people', 'guys']\n",
      "51:20['people', 'money', 'words']\n",
      "53:8['guilty', 'people', 'somebody']\n",
      "56:3['guy', 'something', 'people']\n"
     ]
    }
   ],
   "source": [
    "seconds = [x%60 for x in stamps]\n",
    "minutes = [math.floor(x/60) for x in stamps]\n",
    "for i, (x, y)in enumerate(zip(minutes, seconds)):\n",
    "    print(\"{}:{}\".format(x, y), end=\"\")\n",
    "    print([x[0] for x in keywords[i]])"
   ]
  }
 ],
 "metadata": {
  "kernelspec": {
   "display_name": "Python 3",
   "language": "python",
   "name": "python3"
  },
  "language_info": {
   "codemirror_mode": {
    "name": "ipython",
    "version": 3
   },
   "file_extension": ".py",
   "mimetype": "text/x-python",
   "name": "python",
   "nbconvert_exporter": "python",
   "pygments_lexer": "ipython3",
   "version": "3.5.3"
  }
 },
 "nbformat": 4,
 "nbformat_minor": 2
}
