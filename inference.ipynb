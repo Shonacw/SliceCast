{
 "cells": [
  {
   "cell_type": "code",
   "execution_count": 1,
   "metadata": {},
   "outputs": [
    {
     "name": "stderr",
     "output_type": "stream",
     "text": [
      "WARNING: Logging before flag parsing goes to stderr.\n",
      "W0507 01:13:23.278324 140033714849536 __init__.py:56] Some hub symbols are not available because TensorFlow version is less than 1.14\n"
     ]
    },
    {
     "name": "stdout",
     "output_type": "stream",
     "text": [
      "1.13.1\n"
     ]
    },
    {
     "name": "stderr",
     "output_type": "stream",
     "text": [
      "Using TensorFlow backend.\n"
     ]
    },
    {
     "name": "stdout",
     "output_type": "stream",
     "text": [
      "importing hub\n",
      "WARNING:tensorflow:From /usr/local/lib/python3.5/dist-packages/tensorflow/python/ops/control_flow_ops.py:3632: colocate_with (from tensorflow.python.framework.ops) is deprecated and will be removed in a future version.\n",
      "Instructions for updating:\n",
      "Colocations handled automatically by placer.\n"
     ]
    },
    {
     "name": "stderr",
     "output_type": "stream",
     "text": [
      "W0507 01:14:13.885460 140033714849536 deprecation.py:323] From /usr/local/lib/python3.5/dist-packages/tensorflow/python/ops/control_flow_ops.py:3632: colocate_with (from tensorflow.python.framework.ops) is deprecated and will be removed in a future version.\n",
      "Instructions for updating:\n",
      "Colocations handled automatically by placer.\n"
     ]
    }
   ],
   "source": [
    "from SliceNet import SliceNet\n",
    "from netUtils import getSingleExample\n",
    "import matplotlib.pyplot as plt\n",
    "from pathlib import Path\n",
    "import numpy as np\n",
    "import pandas as pd\n",
    "import seaborn as sns\n",
    "import random\n",
    "import math\n",
    "\n",
    "import warnings\n",
    "warnings.filterwarnings('ignore')\n",
    "import os\n",
    "import tensorflow as tf\n",
    "\n",
    "tf.logging.set_verbosity(tf.logging.ERROR)\n",
    "os.environ['TF_CPP_MIN_LOG_LEVEL'] = '2'  # or any {'0', '1', '2'}\n",
    "TF_CPP_MIN_LOG_LEVEL=2\n",
    "\n",
    "%load_ext autoreload\n",
    "%autoreload 2"
   ]
  },
  {
   "cell_type": "code",
   "execution_count": 38,
   "metadata": {},
   "outputs": [],
   "source": [
    "# Choose whether to use the base network or the network with self-attention\n",
    "attention = True\n",
    "\n",
    "best_base_wiki = '/home/bmmidei/SliceCast/models/04_20_2019_2300_final.h5'\n",
    "best_base_podcast = '/home/bmmidei/SliceCast/models/04_26_2019_1000_podcast.h5'\n",
    "best_attn_wiki = '/home/bmmidei/SliceCast/models/05_03_2019_0800_attn.h5'\n",
    "best_attn_podcast = '/home/bmmidei/SliceCast/models/05_02_2019_2200_attn_podcast.h5'\n",
    "\n",
    "if attention:\n",
    "    weights_wiki = best_attn_wiki\n",
    "    weights_podcast = best_attn_podcast\n",
    "else:\n",
    "    weights_wiki = best_base_wiki\n",
    "    weights_podcast = best_base_podcast\n",
    "\n",
    "\n",
    "net = SliceNet(classification=True,\n",
    "               class_weights=[1.0,10,0.2],\n",
    "               attention=attention)\n"
   ]
  },
  {
   "cell_type": "markdown",
   "metadata": {},
   "source": [
    "## Sample predictions on unseen wiki articles"
   ]
  },
  {
   "cell_type": "code",
   "execution_count": 39,
   "metadata": {},
   "outputs": [],
   "source": [
    "dataPath = Path('/home/bmmidei/SliceCast/data/dev/hdf5')\n",
    "files = [str(x) for x in dataPath.glob('**/*') if x.suffix=='.hdf5']\n",
    "\n",
    "mask = random.sample(range(0,len(files)), 1)\n",
    "\n",
    "# randomly select a file to test\n",
    "test_file = [x for (i,x) in enumerate(files) if i in mask][0]"
   ]
  },
  {
   "cell_type": "code",
   "execution_count": 45,
   "metadata": {},
   "outputs": [
    {
     "name": "stdout",
     "output_type": "stream",
     "text": [
      "Starting Testing\n",
      "Loaded weights from disk\n"
     ]
    },
    {
     "name": "stderr",
     "output_type": "stream",
     "text": [
      "Exception ignored in: <bound method BaseSession._Callable.__del__ of <tensorflow.python.client.session.BaseSession._Callable object at 0x7f570411f390>>\n",
      "Traceback (most recent call last):\n",
      "  File \"/usr/local/lib/python3.5/dist-packages/tensorflow/python/client/session.py\", line 1455, in __del__\n",
      "    self._session._session, self._handle, status)\n",
      "  File \"/usr/local/lib/python3.5/dist-packages/tensorflow/python/framework/errors_impl.py\", line 528, in __exit__\n",
      "    c_api.TF_GetCode(self.status.status))\n",
      "tensorflow.python.framework.errors_impl.CancelledError: Session has been closed.\n"
     ]
    },
    {
     "name": "stdout",
     "output_type": "stream",
     "text": [
      "Average PK score with k=4 on 20 examples is: 0.271\n"
     ]
    }
   ],
   "source": [
    "k = 4\n",
    "num_samples = 20\n",
    "\n",
    "preds, labels, pk = net.predict(test_file=test_file,\n",
    "                                num_samples=num_samples,\n",
    "                                weights_path=weights_wiki,\n",
    "                                k=k)\n",
    "print('Average PK score with k={} on {} examples is: {:0.3f}'.format(k, num_samples, pk))"
   ]
  },
  {
   "cell_type": "code",
   "execution_count": 46,
   "metadata": {},
   "outputs": [],
   "source": [
    "np.set_printoptions(suppress=True)\n",
    "\n",
    "preds = np.argmax(preds, axis=2)\n",
    "labels = np.argmax(labels, axis=2)"
   ]
  },
  {
   "cell_type": "code",
   "execution_count": 52,
   "metadata": {},
   "outputs": [
    {
     "data": {
      "text/plain": [
       "<matplotlib.axes._subplots.AxesSubplot at 0x7f56f5b8b550>"
      ]
     },
     "execution_count": 52,
     "metadata": {},
     "output_type": "execute_result"
    },
    {
     "data": {
      "image/png": "[encoded data removed]",
      "text/plain": [
       "<Figure size 720x360 with 2 Axes>"
      ]
     },
     "metadata": {},
     "output_type": "display_data"
    }
   ],
   "source": [
    "# Choose the document you want to examine\n",
    "# You can keep running this cell with different indices to visualize different\n",
    "# documents within this batch of testing\n",
    "idx = 5\n",
    "\n",
    "df = pd.DataFrame()\n",
    "df['preds'] = preds[idx,:]\n",
    "df['labels'] = labels[idx,:]\n",
    "df['sent_number'] = df.index\n",
    "\n",
    "fig, axes = plt.subplots(nrows=2, ncols=1)\n",
    "\n",
    "df.plot(x='sent_number', y='preds', figsize=(10,5), grid=True, ax=axes[0])\n",
    "df.plot(x='sent_number', y='labels', figsize=(10,5), grid=True, ax=axes[1], color='green')"
   ]
  },
  {
   "cell_type": "markdown",
   "metadata": {},
   "source": [
    "## Sample predictions on unseen podcast data"
   ]
  },
  {
   "cell_type": "code",
   "execution_count": 53,
   "metadata": {},
   "outputs": [
    {
     "name": "stdout",
     "output_type": "stream",
     "text": [
      "Starting Testing\n",
      "Loaded weights from disk\n"
     ]
    },
    {
     "name": "stderr",
     "output_type": "stream",
     "text": [
      "Exception ignored in: <bound method BaseSession._Callable.__del__ of <tensorflow.python.client.session.BaseSession._Callable object at 0x7f56f5a7fa58>>\n",
      "Traceback (most recent call last):\n",
      "  File \"/usr/local/lib/python3.5/dist-packages/tensorflow/python/client/session.py\", line 1455, in __del__\n",
      "    self._session._session, self._handle, status)\n",
      "  File \"/usr/local/lib/python3.5/dist-packages/tensorflow/python/framework/errors_impl.py\", line 528, in __exit__\n",
      "    c_api.TF_GetCode(self.status.status))\n",
      "tensorflow.python.framework.errors_impl.CancelledError: Session has been closed.\n"
     ]
    },
    {
     "name": "stdout",
     "output_type": "stream",
     "text": [
      "Average PK score with k=22 on 8 examples is: 0.248\n"
     ]
    }
   ],
   "source": [
    "test_file = '/home/bmmidei/SliceCast/data/podcasts/hdf5/batch0_0.hdf5'\n",
    "k = 22\n",
    "num_samples = 8\n",
    "preds, labels, pk = net.predict(test_file=test_file,\n",
    "                    num_samples=num_samples,\n",
    "                    weights_path=weights_podcast,\n",
    "                    k=k)\n",
    "\n",
    "print('Average PK score with k={} on {} examples is: {:0.3f}'.format(k, num_samples, pk))"
   ]
  },
  {
   "cell_type": "code",
   "execution_count": 54,
   "metadata": {},
   "outputs": [],
   "source": [
    "np.set_printoptions(suppress=True)\n",
    "\n",
    "preds = np.argmax(preds, axis=2)\n",
    "labels = np.argmax(labels, axis=2)"
   ]
  },
  {
   "cell_type": "code",
   "execution_count": 62,
   "metadata": {},
   "outputs": [
    {
     "data": {
      "text/plain": [
       "<matplotlib.axes._subplots.AxesSubplot at 0x7f56f5a0e828>"
      ]
     },
     "execution_count": 62,
     "metadata": {},
     "output_type": "execute_result"
    },
    {
     "data": {
      "image/png": "[encoded data removed]",
      "text/plain": [
       "<Figure size 720x360 with 2 Axes>"
      ]
     },
     "metadata": {},
     "output_type": "display_data"
    }
   ],
   "source": [
    "# Choose the document you want to examine\n",
    "idx = 6\n",
    "\n",
    "df = pd.DataFrame()\n",
    "df['preds'] = preds[idx,:]\n",
    "df['labels'] = labels[idx,:]\n",
    "df['sent_number'] = df.index\n",
    "\n",
    "fig, axes = plt.subplots(nrows=2, ncols=1)\n",
    "\n",
    "df.plot(x='sent_number', y='preds', figsize=(10,5), grid=True, ax=axes[0])\n",
    "df.plot(x='sent_number', y='labels', figsize=(10,5), grid=True, ax=axes[1], color='green')"
   ]
  },
  {
   "cell_type": "markdown",
   "metadata": {},
   "source": [
    "## Predictions on a single text file"
   ]
  },
  {
   "cell_type": "code",
   "execution_count": 41,
   "metadata": {},
   "outputs": [
    {
     "name": "stdout",
     "output_type": "stream",
     "text": [
      "(1, 1009)\n",
      "1009\n",
      "Starting Testing\n",
      "Loaded weights from disk\n"
     ]
    },
    {
     "name": "stderr",
     "output_type": "stream",
     "text": [
      "Exception ignored in: <bound method BaseSession._Callable.__del__ of <tensorflow.python.client.session.BaseSession._Callable object at 0x7fbcd5f8f1d0>>\n",
      "Traceback (most recent call last):\n",
      "  File \"/usr/local/lib/python3.5/dist-packages/tensorflow/python/client/session.py\", line 1455, in __del__\n",
      "    self._session._session, self._handle, status)\n",
      "  File \"/usr/local/lib/python3.5/dist-packages/tensorflow/python/framework/errors_impl.py\", line 528, in __exit__\n",
      "    c_api.TF_GetCode(self.status.status))\n",
      "tensorflow.python.framework.errors_impl.CancelledError: Session has been closed.\n"
     ]
    },
    {
     "name": "stdout",
     "output_type": "stream",
     "text": [
      "(1, 1009, 3)\n"
     ]
    }
   ],
   "source": [
    "text_file = '/home/bmmidei/SliceCast/data/podcasts/with_timestamps/joe1254.txt'\n",
    "is_labeled = True\n",
    "#weights_path = '/home/bmmidei/SliceCast/models/04_20_2019_2300_final.h5' # wiki trained\n",
    "weights_path = '/home/bmmidei/SliceCast/models/04_26_2019_1000_podcast.h5' # transfer learning\n",
    "\n",
    "sents, labels = getSingleExample(fname=text_file, is_labeled=is_labeled)\n",
    "sents = np.expand_dims(sents, axis=0)\n",
    "print(sents.shape)\n",
    "print(len(labels))\n",
    "preds = net.singlePredict(sents, weights_path=weights_path)\n",
    "print(preds.shape)"
   ]
  },
  {
   "cell_type": "code",
   "execution_count": null,
   "metadata": {},
   "outputs": [],
   "source": []
  },
  {
   "cell_type": "code",
   "execution_count": 31,
   "metadata": {},
   "outputs": [
    {
     "data": {
      "text/plain": [
       "<matplotlib.axes._subplots.AxesSubplot at 0x7fda7ead3a20>"
      ]
     },
     "execution_count": 31,
     "metadata": {},
     "output_type": "execute_result"
    },
    {
     "data": {
      "image/png": "[encoded data removed]",
      "text/plain": [
       "<Figure size 720x360 with 2 Axes>"
      ]
     },
     "metadata": {},
     "output_type": "display_data"
    }
   ],
   "source": [
    "# Place data into a pandas dataframe for analysis\n",
    "df = pd.DataFrame()\n",
    "\n",
    "preds = np.argmax(np.squeeze(preds), axis=-1)\n",
    "df['raw_sentences'] = sents[0]\n",
    "if is_labeled:\n",
    "    df['labels'] = labels\n",
    "df['preds'] = preds\n",
    "df['sent_number'] = df.index\n",
    "\n",
    "fig, axes = plt.subplots(nrows=2, ncols=1)\n",
    "\n",
    "df.plot(x='sent_number', y='preds', figsize=(10,5), grid=True, ax=axes[0])\n",
    "df.plot(x='sent_number', y='labels', figsize=(10,5), grid=True, ax=axes[1], color='green')"
   ]
  },
  {
   "cell_type": "code",
   "execution_count": 27,
   "metadata": {},
   "outputs": [
    {
     "data": {
      "text/html": [
       "<div>\n",
       "<style scoped>\n",
       "    .dataframe tbody tr th:only-of-type {\n",
       "        vertical-align: middle;\n",
       "    }\n",
       "\n",
       "    .dataframe tbody tr th {\n",
       "        vertical-align: top;\n",
       "    }\n",
       "\n",
       "    .dataframe thead th {\n",
       "        text-align: right;\n",
       "    }\n",
       "</style>\n",
       "<table border=\"1\" class=\"dataframe\">\n",
       "  <thead>\n",
       "    <tr style=\"text-align: right;\">\n",
       "      <th></th>\n",
       "      <th>raw_sentences</th>\n",
       "      <th>labels</th>\n",
       "      <th>preds</th>\n",
       "      <th>sent_number</th>\n",
       "    </tr>\n",
       "  </thead>\n",
       "  <tbody>\n",
       "    <tr>\n",
       "      <th>0</th>\n",
       "      <td>5 4 3 2 1 is it hanging up on me?</td>\n",
       "      <td>1</td>\n",
       "      <td>1</td>\n",
       "      <td>0</td>\n",
       "    </tr>\n",
       "    <tr>\n",
       "      <th>1</th>\n",
       "      <td>Well, I've live.</td>\n",
       "      <td>0</td>\n",
       "      <td>0</td>\n",
       "      <td>1</td>\n",
       "    </tr>\n",
       "    <tr>\n",
       "      <th>2</th>\n",
       "      <td>Dr. Phil.</td>\n",
       "      <td>0</td>\n",
       "      <td>0</td>\n",
       "      <td>2</td>\n",
       "    </tr>\n",
       "    <tr>\n",
       "      <th>3</th>\n",
       "      <td>Well, I've someone's calling you it's going on...</td>\n",
       "      <td>0</td>\n",
       "      <td>0</td>\n",
       "      <td>3</td>\n",
       "    </tr>\n",
       "    <tr>\n",
       "      <th>4</th>\n",
       "      <td>I was trying to find now there's a little shit...</td>\n",
       "      <td>0</td>\n",
       "      <td>0</td>\n",
       "      <td>4</td>\n",
       "    </tr>\n",
       "    <tr>\n",
       "      <th>5</th>\n",
       "      <td>How how did this catch me outside girl.</td>\n",
       "      <td>0</td>\n",
       "      <td>0</td>\n",
       "      <td>5</td>\n",
       "    </tr>\n",
       "    <tr>\n",
       "      <th>6</th>\n",
       "      <td>How did this happen at all the all the differe...</td>\n",
       "      <td>0</td>\n",
       "      <td>0</td>\n",
       "      <td>6</td>\n",
       "    </tr>\n",
       "    <tr>\n",
       "      <th>7</th>\n",
       "      <td>I know I mean, it's my moment of infamy.</td>\n",
       "      <td>0</td>\n",
       "      <td>0</td>\n",
       "      <td>7</td>\n",
       "    </tr>\n",
       "    <tr>\n",
       "      <th>8</th>\n",
       "      <td>Seriously.</td>\n",
       "      <td>0</td>\n",
       "      <td>0</td>\n",
       "      <td>8</td>\n",
       "    </tr>\n",
       "    <tr>\n",
       "      <th>9</th>\n",
       "      <td>This girl comes on with her mother and her mot...</td>\n",
       "      <td>0</td>\n",
       "      <td>0</td>\n",
       "      <td>9</td>\n",
       "    </tr>\n",
       "    <tr>\n",
       "      <th>10</th>\n",
       "      <td>She goes for a long time and makes a complete ...</td>\n",
       "      <td>0</td>\n",
       "      <td>0</td>\n",
       "      <td>10</td>\n",
       "    </tr>\n",
       "    <tr>\n",
       "      <th>11</th>\n",
       "      <td>They say she's become a leader.</td>\n",
       "      <td>0</td>\n",
       "      <td>0</td>\n",
       "      <td>11</td>\n",
       "    </tr>\n",
       "    <tr>\n",
       "      <th>12</th>\n",
       "      <td>She's working with all these girls doing a gre...</td>\n",
       "      <td>0</td>\n",
       "      <td>0</td>\n",
       "      <td>12</td>\n",
       "    </tr>\n",
       "    <tr>\n",
       "      <th>13</th>\n",
       "      <td>She jumps up on this fence and is smiling and ...</td>\n",
       "      <td>0</td>\n",
       "      <td>0</td>\n",
       "      <td>13</td>\n",
       "    </tr>\n",
       "    <tr>\n",
       "      <th>14</th>\n",
       "      <td>So they come back for a follow-up.</td>\n",
       "      <td>0</td>\n",
       "      <td>0</td>\n",
       "      <td>14</td>\n",
       "    </tr>\n",
       "    <tr>\n",
       "      <th>15</th>\n",
       "      <td>Like I don't know month or two later and when ...</td>\n",
       "      <td>0</td>\n",
       "      <td>0</td>\n",
       "      <td>15</td>\n",
       "    </tr>\n",
       "    <tr>\n",
       "      <th>16</th>\n",
       "      <td>I have the audience completely empty.</td>\n",
       "      <td>0</td>\n",
       "      <td>0</td>\n",
       "      <td>16</td>\n",
       "    </tr>\n",
       "    <tr>\n",
       "      <th>17</th>\n",
       "      <td>I have nobody there to play too.</td>\n",
       "      <td>0</td>\n",
       "      <td>0</td>\n",
       "      <td>17</td>\n",
       "    </tr>\n",
       "    <tr>\n",
       "      <th>18</th>\n",
       "      <td>I mean 250 Here's empty nobody in the house, b...</td>\n",
       "      <td>0</td>\n",
       "      <td>0</td>\n",
       "      <td>18</td>\n",
       "    </tr>\n",
       "    <tr>\n",
       "      <th>19</th>\n",
       "      <td>And they go what where is everybody else?</td>\n",
       "      <td>0</td>\n",
       "      <td>0</td>\n",
       "      <td>19</td>\n",
       "    </tr>\n",
       "    <tr>\n",
       "      <th>20</th>\n",
       "      <td>Will you don't need anybody?</td>\n",
       "      <td>0</td>\n",
       "      <td>0</td>\n",
       "      <td>20</td>\n",
       "    </tr>\n",
       "    <tr>\n",
       "      <th>21</th>\n",
       "      <td>We're just here to talk and you know keep thin...</td>\n",
       "      <td>0</td>\n",
       "      <td>0</td>\n",
       "      <td>21</td>\n",
       "    </tr>\n",
       "    <tr>\n",
       "      <th>22</th>\n",
       "      <td>They there was nobody there to showboat for or...</td>\n",
       "      <td>0</td>\n",
       "      <td>0</td>\n",
       "      <td>22</td>\n",
       "    </tr>\n",
       "    <tr>\n",
       "      <th>23</th>\n",
       "      <td>And there's like a 15-minute interview.</td>\n",
       "      <td>0</td>\n",
       "      <td>1</td>\n",
       "      <td>23</td>\n",
       "    </tr>\n",
       "    <tr>\n",
       "      <th>24</th>\n",
       "      <td>They had nothing to say and off they go and th...</td>\n",
       "      <td>0</td>\n",
       "      <td>0</td>\n",
       "      <td>24</td>\n",
       "    </tr>\n",
       "    <tr>\n",
       "      <th>25</th>\n",
       "      <td>Yeah, it just went crazy and what she was nomi...</td>\n",
       "      <td>0</td>\n",
       "      <td>0</td>\n",
       "      <td>25</td>\n",
       "    </tr>\n",
       "    <tr>\n",
       "      <th>26</th>\n",
       "      <td>I'm serious.</td>\n",
       "      <td>0</td>\n",
       "      <td>0</td>\n",
       "      <td>26</td>\n",
       "    </tr>\n",
       "    <tr>\n",
       "      <th>27</th>\n",
       "      <td>So I'm I take no credit or blame.</td>\n",
       "      <td>0</td>\n",
       "      <td>0</td>\n",
       "      <td>27</td>\n",
       "    </tr>\n",
       "    <tr>\n",
       "      <th>28</th>\n",
       "      <td>You know, I just did what I could and him seni...</td>\n",
       "      <td>0</td>\n",
       "      <td>0</td>\n",
       "      <td>28</td>\n",
       "    </tr>\n",
       "    <tr>\n",
       "      <th>29</th>\n",
       "      <td>Well, maybe she'll turn some maybe it'll grow up.</td>\n",
       "      <td>0</td>\n",
       "      <td>0</td>\n",
       "      <td>29</td>\n",
       "    </tr>\n",
       "    <tr>\n",
       "      <th>30</th>\n",
       "      <td>She'll turn some pasta, but I hope so.</td>\n",
       "      <td>0</td>\n",
       "      <td>0</td>\n",
       "      <td>30</td>\n",
       "    </tr>\n",
       "    <tr>\n",
       "      <th>31</th>\n",
       "      <td>Well, that's a very good attitude very healthy...</td>\n",
       "      <td>0</td>\n",
       "      <td>1</td>\n",
       "      <td>31</td>\n",
       "    </tr>\n",
       "    <tr>\n",
       "      <th>32</th>\n",
       "      <td>It's very weird thing.</td>\n",
       "      <td>0</td>\n",
       "      <td>0</td>\n",
       "      <td>32</td>\n",
       "    </tr>\n",
       "    <tr>\n",
       "      <th>33</th>\n",
       "      <td>It makes no sense.</td>\n",
       "      <td>0</td>\n",
       "      <td>0</td>\n",
       "      <td>33</td>\n",
       "    </tr>\n",
       "    <tr>\n",
       "      <th>34</th>\n",
       "      <td>She's on a billboard on Sunset a giant billboa...</td>\n",
       "      <td>0</td>\n",
       "      <td>0</td>\n",
       "      <td>34</td>\n",
       "    </tr>\n",
       "    <tr>\n",
       "      <th>35</th>\n",
       "      <td>It's like one of those side of the building bi...</td>\n",
       "      <td>0</td>\n",
       "      <td>0</td>\n",
       "      <td>35</td>\n",
       "    </tr>\n",
       "    <tr>\n",
       "      <th>36</th>\n",
       "      <td>It makes no sense.</td>\n",
       "      <td>0</td>\n",
       "      <td>0</td>\n",
       "      <td>36</td>\n",
       "    </tr>\n",
       "    <tr>\n",
       "      <th>37</th>\n",
       "      <td>Seriously seriously, and there's people curing...</td>\n",
       "      <td>0</td>\n",
       "      <td>0</td>\n",
       "      <td>37</td>\n",
       "    </tr>\n",
       "    <tr>\n",
       "      <th>38</th>\n",
       "      <td>You can't find him with both hands.</td>\n",
       "      <td>0</td>\n",
       "      <td>0</td>\n",
       "      <td>38</td>\n",
       "    </tr>\n",
       "    <tr>\n",
       "      <th>39</th>\n",
       "      <td>Exactly.</td>\n",
       "      <td>0</td>\n",
       "      <td>0</td>\n",
       "      <td>39</td>\n",
       "    </tr>\n",
       "    <tr>\n",
       "      <th>40</th>\n",
       "      <td>Nobody has any idea who won the last Nobel Pri...</td>\n",
       "      <td>0</td>\n",
       "      <td>1</td>\n",
       "      <td>40</td>\n",
       "    </tr>\n",
       "    <tr>\n",
       "      <th>41</th>\n",
       "      <td>Does she have talent if you ever heard any of ...</td>\n",
       "      <td>0</td>\n",
       "      <td>1</td>\n",
       "      <td>41</td>\n",
       "    </tr>\n",
       "    <tr>\n",
       "      <th>42</th>\n",
       "      <td>I've only seen her on your show.</td>\n",
       "      <td>0</td>\n",
       "      <td>0</td>\n",
       "      <td>42</td>\n",
       "    </tr>\n",
       "    <tr>\n",
       "      <th>43</th>\n",
       "      <td>Thanks, man.</td>\n",
       "      <td>0</td>\n",
       "      <td>0</td>\n",
       "      <td>43</td>\n",
       "    </tr>\n",
       "    <tr>\n",
       "      <th>44</th>\n",
       "      <td>I appreciate you bringing that up, but it's ju...</td>\n",
       "      <td>0</td>\n",
       "      <td>0</td>\n",
       "      <td>44</td>\n",
       "    </tr>\n",
       "    <tr>\n",
       "      <th>45</th>\n",
       "      <td>They say that somebody signed her and paid her...</td>\n",
       "      <td>0</td>\n",
       "      <td>0</td>\n",
       "      <td>45</td>\n",
       "    </tr>\n",
       "    <tr>\n",
       "      <th>46</th>\n",
       "      <td>Seriously that she got like a close to a milli...</td>\n",
       "      <td>0</td>\n",
       "      <td>0</td>\n",
       "      <td>46</td>\n",
       "    </tr>\n",
       "    <tr>\n",
       "      <th>47</th>\n",
       "      <td>Really?</td>\n",
       "      <td>0</td>\n",
       "      <td>0</td>\n",
       "      <td>47</td>\n",
       "    </tr>\n",
       "    <tr>\n",
       "      <th>48</th>\n",
       "      <td>Yeah.</td>\n",
       "      <td>0</td>\n",
       "      <td>0</td>\n",
       "      <td>48</td>\n",
       "    </tr>\n",
       "    <tr>\n",
       "      <th>49</th>\n",
       "      <td>Oh well, okay.</td>\n",
       "      <td>0</td>\n",
       "      <td>0</td>\n",
       "      <td>49</td>\n",
       "    </tr>\n",
       "  </tbody>\n",
       "</table>\n",
       "</div>"
      ],
      "text/plain": [
       "                                        raw_sentences  labels  preds  \\\n",
       "0                   5 4 3 2 1 is it hanging up on me?       1      1   \n",
       "1                                    Well, I've live.       0      0   \n",
       "2                                           Dr. Phil.       0      0   \n",
       "3   Well, I've someone's calling you it's going on...       0      0   \n",
       "4   I was trying to find now there's a little shit...       0      0   \n",
       "5             How how did this catch me outside girl.       0      0   \n",
       "6   How did this happen at all the all the differe...       0      0   \n",
       "7            I know I mean, it's my moment of infamy.       0      0   \n",
       "8                                          Seriously.       0      0   \n",
       "9   This girl comes on with her mother and her mot...       0      0   \n",
       "10  She goes for a long time and makes a complete ...       0      0   \n",
       "11                    They say she's become a leader.       0      0   \n",
       "12  She's working with all these girls doing a gre...       0      0   \n",
       "13  She jumps up on this fence and is smiling and ...       0      0   \n",
       "14                 So they come back for a follow-up.       0      0   \n",
       "15  Like I don't know month or two later and when ...       0      0   \n",
       "16              I have the audience completely empty.       0      0   \n",
       "17                   I have nobody there to play too.       0      0   \n",
       "18  I mean 250 Here's empty nobody in the house, b...       0      0   \n",
       "19          And they go what where is everybody else?       0      0   \n",
       "20                       Will you don't need anybody?       0      0   \n",
       "21  We're just here to talk and you know keep thin...       0      0   \n",
       "22  They there was nobody there to showboat for or...       0      0   \n",
       "23            And there's like a 15-minute interview.       0      1   \n",
       "24  They had nothing to say and off they go and th...       0      0   \n",
       "25  Yeah, it just went crazy and what she was nomi...       0      0   \n",
       "26                                       I'm serious.       0      0   \n",
       "27                  So I'm I take no credit or blame.       0      0   \n",
       "28  You know, I just did what I could and him seni...       0      0   \n",
       "29  Well, maybe she'll turn some maybe it'll grow up.       0      0   \n",
       "30             She'll turn some pasta, but I hope so.       0      0   \n",
       "31  Well, that's a very good attitude very healthy...       0      1   \n",
       "32                             It's very weird thing.       0      0   \n",
       "33                                 It makes no sense.       0      0   \n",
       "34  She's on a billboard on Sunset a giant billboa...       0      0   \n",
       "35  It's like one of those side of the building bi...       0      0   \n",
       "36                                 It makes no sense.       0      0   \n",
       "37  Seriously seriously, and there's people curing...       0      0   \n",
       "38                You can't find him with both hands.       0      0   \n",
       "39                                           Exactly.       0      0   \n",
       "40  Nobody has any idea who won the last Nobel Pri...       0      1   \n",
       "41  Does she have talent if you ever heard any of ...       0      1   \n",
       "42                   I've only seen her on your show.       0      0   \n",
       "43                                       Thanks, man.       0      0   \n",
       "44  I appreciate you bringing that up, but it's ju...       0      0   \n",
       "45  They say that somebody signed her and paid her...       0      0   \n",
       "46  Seriously that she got like a close to a milli...       0      0   \n",
       "47                                            Really?       0      0   \n",
       "48                                              Yeah.       0      0   \n",
       "49                                     Oh well, okay.       0      0   \n",
       "\n",
       "    sent_number  \n",
       "0             0  \n",
       "1             1  \n",
       "2             2  \n",
       "3             3  \n",
       "4             4  \n",
       "5             5  \n",
       "6             6  \n",
       "7             7  \n",
       "8             8  \n",
       "9             9  \n",
       "10           10  \n",
       "11           11  \n",
       "12           12  \n",
       "13           13  \n",
       "14           14  \n",
       "15           15  \n",
       "16           16  \n",
       "17           17  \n",
       "18           18  \n",
       "19           19  \n",
       "20           20  \n",
       "21           21  \n",
       "22           22  \n",
       "23           23  \n",
       "24           24  \n",
       "25           25  \n",
       "26           26  \n",
       "27           27  \n",
       "28           28  \n",
       "29           29  \n",
       "30           30  \n",
       "31           31  \n",
       "32           32  \n",
       "33           33  \n",
       "34           34  \n",
       "35           35  \n",
       "36           36  \n",
       "37           37  \n",
       "38           38  \n",
       "39           39  \n",
       "40           40  \n",
       "41           41  \n",
       "42           42  \n",
       "43           43  \n",
       "44           44  \n",
       "45           45  \n",
       "46           46  \n",
       "47           47  \n",
       "48           48  \n",
       "49           49  "
      ]
     },
     "execution_count": 27,
     "metadata": {},
     "output_type": "execute_result"
    }
   ],
   "source": [
    "df.head(50)"
   ]
  },
  {
   "cell_type": "code",
   "execution_count": null,
   "metadata": {},
   "outputs": [],
   "source": []
  },
  {
   "cell_type": "code",
   "execution_count": null,
   "metadata": {},
   "outputs": [],
   "source": []
  },
  {
   "cell_type": "code",
   "execution_count": null,
   "metadata": {},
   "outputs": [],
   "source": []
  },
  {
   "cell_type": "code",
   "execution_count": 42,
   "metadata": {},
   "outputs": [
    {
     "name": "stdout",
     "output_type": "stream",
     "text": [
      "(1, 1009, 3)\n"
     ]
    }
   ],
   "source": [
    "print(preds.shape)"
   ]
  },
  {
   "cell_type": "code",
   "execution_count": 22,
   "metadata": {},
   "outputs": [
    {
     "name": "stdout",
     "output_type": "stream",
     "text": [
      "(1, 1009)\n"
     ]
    }
   ],
   "source": [
    "print(sents.shape)"
   ]
  },
  {
   "cell_type": "code",
   "execution_count": 50,
   "metadata": {},
   "outputs": [],
   "source": [
    "from postprocess import getSummaries, getTimeStamps\n",
    "#preds = np.argmax(np.squeeze(preds), axis=-1)"
   ]
  },
  {
   "cell_type": "code",
   "execution_count": 86,
   "metadata": {},
   "outputs": [
    {
     "name": "stdout",
     "output_type": "stream",
     "text": [
      "15\n"
     ]
    }
   ],
   "source": [
    "keywords = getSummaries(sents[0], preds)\n",
    "print(len(keywords))"
   ]
  },
  {
   "cell_type": "code",
   "execution_count": 90,
   "metadata": {},
   "outputs": [],
   "source": [
    "stamps = getTimeStamps(sents[0], '/home/bmmidei/SliceCast/data/podcasts/with_timestamps/joe1254.json', preds)"
   ]
  },
  {
   "cell_type": "code",
   "execution_count": 91,
   "metadata": {},
   "outputs": [
    {
     "data": {
      "text/plain": [
       "[0,\n",
       " 186,\n",
       " 335,\n",
       " 1031,\n",
       " 1265,\n",
       " 2072,\n",
       " 2271,\n",
       " 2281,\n",
       " 2845,\n",
       " 2849,\n",
       " 3188,\n",
       " 4036,\n",
       " 4234,\n",
       " 4527,\n",
       " 5702]"
      ]
     },
     "execution_count": 91,
     "metadata": {},
     "output_type": "execute_result"
    }
   ],
   "source": [
    "stamps\n"
   ]
  },
  {
   "cell_type": "code",
   "execution_count": 115,
   "metadata": {},
   "outputs": [
    {
     "name": "stdout",
     "output_type": "stream",
     "text": [
      "0:0['mother', 'night', 'girl']\n",
      "3:6['people', 'payoff', 'weird thing']\n",
      "5:35['somebody', 'incremental changes', 'important thing']\n",
      "17:11['people', 'depression', 'something']\n",
      "21:5['people', 'medication today', 'opioids']\n",
      "34:32['shoulder surgery', 'organic pain', 'doctor']\n",
      "37:51['ton', 'loot', 'sure']\n",
      "38:1['people', 'thing', 'kinds']\n",
      "47:25['lot', 'deception detection', 'big news stories']\n",
      "47:29['people', 'somebody', 'guy']\n",
      "53:8['lot', 'people', 'guy']\n",
      "67:16['guy', 'time', 'fight']\n",
      "70:34['nicest guy', 'time', 'custom model']\n",
      "75:27['something', 'good', 'things']\n",
      "95:2['money', 'shampoo', 'thanks']\n"
     ]
    }
   ],
   "source": [
    "import math\n",
    "seconds = [x%60 for x in stamps]\n",
    "minutes = [math.floor(x/60) for x in stamps]\n",
    "for i, (x, y)in enumerate(zip(minutes, seconds)):\n",
    "    print(\"{}:{}\".format(x, y), end=\"\")\n",
    "    print([x[0] for x in keywords[i]])"
   ]
  },
  {
   "cell_type": "code",
   "execution_count": null,
   "metadata": {},
   "outputs": [],
   "source": []
  }
 ],
 "metadata": {
  "kernelspec": {
   "display_name": "Python 3",
   "language": "python",
   "name": "python3"
  },
  "language_info": {
   "codemirror_mode": {
    "name": "ipython",
    "version": 3
   },
   "file_extension": ".py",
   "mimetype": "text/x-python",
   "name": "python",
   "nbconvert_exporter": "python",
   "pygments_lexer": "ipython3",
   "version": "3.5.3"
  }
 },
 "nbformat": 4,
 "nbformat_minor": 2
}
