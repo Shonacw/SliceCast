{
 "cells": [
  {
   "cell_type": "code",
   "execution_count": 1,
   "metadata": {},
   "outputs": [
    {
     "name": "stderr",
     "output_type": "stream",
     "text": [
      "WARNING: Logging before flag parsing goes to stderr.\n",
      "W0503 02:00:03.255938 140274061629184 __init__.py:56] Some hub symbols are not available because TensorFlow version is less than 1.14\n"
     ]
    },
    {
     "name": "stdout",
     "output_type": "stream",
     "text": [
      "1.13.1\n"
     ]
    },
    {
     "name": "stderr",
     "output_type": "stream",
     "text": [
      "Using TensorFlow backend.\n"
     ]
    },
    {
     "name": "stdout",
     "output_type": "stream",
     "text": [
      "importing hub\n",
      "WARNING:tensorflow:From /usr/local/lib/python3.5/dist-packages/tensorflow/python/ops/control_flow_ops.py:3632: colocate_with (from tensorflow.python.framework.ops) is deprecated and will be removed in a future version.\n",
      "Instructions for updating:\n",
      "Colocations handled automatically by placer.\n"
     ]
    },
    {
     "name": "stderr",
     "output_type": "stream",
     "text": [
      "W0503 02:00:55.284607 140274061629184 deprecation.py:323] From /usr/local/lib/python3.5/dist-packages/tensorflow/python/ops/control_flow_ops.py:3632: colocate_with (from tensorflow.python.framework.ops) is deprecated and will be removed in a future version.\n",
      "Instructions for updating:\n",
      "Colocations handled automatically by placer.\n"
     ]
    }
   ],
   "source": [
    "from SliceNet import SliceNet\n",
    "import matplotlib.pyplot as plt\n",
    "from pathlib import Path\n",
    "import numpy as np\n",
    "import pandas as pd\n",
    "import seaborn as sns\n",
    "import random\n",
    "import math\n",
    "\n",
    "import warnings\n",
    "warnings.filterwarnings('ignore')\n",
    "\n",
    "%load_ext autoreload\n",
    "%autoreload 2"
   ]
  },
  {
   "cell_type": "code",
   "execution_count": 2,
   "metadata": {},
   "outputs": [
    {
     "name": "stdout",
     "output_type": "stream",
     "text": [
      "/home/bmmidei/SliceCast/data/train/hdf5_noIntro/batch2_2.hdf5\n"
     ]
    }
   ],
   "source": [
    "# Wiki Train Set\n",
    "dataPath = Path('/home/bmmidei/SliceCast/data/train/hdf5_noIntro')\n",
    "\n",
    "# Podcast Data Set\n",
    "#dataPath = Path('/home/bmmidei/SliceCast/data/podcasts/hdf5')\n",
    "\n",
    "files = [str(x) for x in dataPath.glob('**/*') if x.suffix=='.hdf5']\n",
    "\n",
    "val_prop = 0.25\n",
    "mask = random.sample(range(0,len(files)), math.floor(val_prop*len(files)))\n",
    "\n",
    "# randomly assign some files to validation and the rest to train\n",
    "train_files = [x for (i,x) in enumerate(files) if i not in mask]\n",
    "val_files = [x for (i,x) in enumerate(files) if i in mask]\n",
    "test_file = val_files[0]\n",
    "print(test_file)"
   ]
  },
  {
   "cell_type": "code",
   "execution_count": 3,
   "metadata": {},
   "outputs": [
    {
     "name": "stdout",
     "output_type": "stream",
     "text": [
      "INFO:tensorflow:Saver not created because there are no variables in the graph to restore\n"
     ]
    },
    {
     "name": "stderr",
     "output_type": "stream",
     "text": [
      "I0503 02:01:26.302116 140274061629184 saver.py:1483] Saver not created because there are no variables in the graph to restore\n"
     ]
    }
   ],
   "source": [
    "weights_path = '/home/bmmidei/SliceCast/models/05_02_2019_2000_attn.h5'\n",
    "class_weights = [1.0, 7.0, 0.2]\n",
    "net = SliceNet(classification=True,\n",
    "               class_weights=class_weights,\n",
    "               pretrain=False,\n",
    "               weights_path=None,\n",
    "               maxlen=None,\n",
    "               attention=True,\n",
    "               drop_prob=0,\n",
    "               reg=1e-2)"
   ]
  },
  {
   "cell_type": "code",
   "execution_count": 4,
   "metadata": {},
   "outputs": [
    {
     "name": "stdout",
     "output_type": "stream",
     "text": [
      "__________________________________________________________________________________________________\n",
      "Layer (type)                    Output Shape         Param #     Connected to                     \n",
      "==================================================================================================\n",
      "encoderIn (InputLayer)          (None, None)         0                                            \n",
      "__________________________________________________________________________________________________\n",
      "encoderOut (Lambda)             (None, None, 512)    0           encoderIn[0][0]                  \n",
      "__________________________________________________________________________________________________\n",
      "time_distributed_1 (TimeDistrib (None, None, 1)      513         encoderOut[0][0]                 \n",
      "__________________________________________________________________________________________________\n",
      "multiply_1 (Multiply)           (None, None, 512)    0           encoderOut[0][0]                 \n",
      "                                                                 time_distributed_1[0][0]         \n",
      "__________________________________________________________________________________________________\n",
      "lstm1 (Bidirectional)           (None, None, 512)    1576960     multiply_1[0][0]                 \n",
      "__________________________________________________________________________________________________\n",
      "lstm2 (Bidirectional)           (None, None, 512)    1576960     lstm1[0][0]                      \n",
      "__________________________________________________________________________________________________\n",
      "time_distributed_2 (TimeDistrib (None, None, 256)    131328      lstm2[0][0]                      \n",
      "__________________________________________________________________________________________________\n",
      "dropout_1 (Dropout)             (None, None, 256)    0           time_distributed_2[0][0]         \n",
      "__________________________________________________________________________________________________\n",
      "time_distributed_3 (TimeDistrib (None, None, 64)     16448       dropout_1[0][0]                  \n",
      "__________________________________________________________________________________________________\n",
      "time_distributed_4 (TimeDistrib (None, None, 3)      195         time_distributed_3[0][0]         \n",
      "==================================================================================================\n",
      "Total params: 3,302,404\n",
      "Trainable params: 3,302,404\n",
      "Non-trainable params: 0\n",
      "__________________________________________________________________________________________________\n",
      "Starting Training\n",
      "WARNING:tensorflow:From /usr/local/lib/python3.5/dist-packages/tensorflow/python/ops/math_ops.py:3066: to_int32 (from tensorflow.python.ops.math_ops) is deprecated and will be removed in a future version.\n",
      "Instructions for updating:\n",
      "Use tf.cast instead.\n"
     ]
    },
    {
     "name": "stderr",
     "output_type": "stream",
     "text": [
      "W0503 02:02:16.080454 140274061629184 deprecation.py:323] From /usr/local/lib/python3.5/dist-packages/tensorflow/python/ops/math_ops.py:3066: to_int32 (from tensorflow.python.ops.math_ops) is deprecated and will be removed in a future version.\n",
      "Instructions for updating:\n",
      "Use tf.cast instead.\n"
     ]
    },
    {
     "name": "stdout",
     "output_type": "stream",
     "text": [
      "Epoch 1/40\n",
      "1000/1000 [==============================] - 971s 971ms/step - loss: 0.7870 - categorical_accuracy: 0.9583 - val_loss: 0.8393 - val_categorical_accuracy: 0.9554\n",
      "PK Score for epoch 1 is 0.5830\n",
      "Epoch 2/40\n",
      "1000/1000 [==============================] - 900s 900ms/step - loss: 0.6424 - categorical_accuracy: 0.9612 - val_loss: 0.7423 - val_categorical_accuracy: 0.9108\n",
      "PK Score for epoch 2 is 0.3458\n",
      "Epoch 3/40\n",
      "1000/1000 [==============================] - 837s 837ms/step - loss: 0.5937 - categorical_accuracy: 0.9296 - val_loss: 0.6939 - val_categorical_accuracy: 0.9181\n",
      "PK Score for epoch 3 is 0.3265\n",
      "Epoch 4/40\n",
      " 157/1000 [===>..........................] - ETA: 12:29 - loss: 0.5855 - categorical_accuracy: 0.9306"
     ]
    },
    {
     "name": "stderr",
     "output_type": "stream",
     "text": [
      "IOPub message rate exceeded.\n",
      "The notebook server will temporarily stop sending output\n",
      "to the client in order to avoid crashing it.\n",
      "To change this limit, set the config variable\n",
      "`--NotebookApp.iopub_msg_rate_limit`.\n",
      "\n",
      "Current values:\n",
      "NotebookApp.iopub_msg_rate_limit=1000.0 (msgs/sec)\n",
      "NotebookApp.rate_limit_window=3.0 (secs)\n",
      "\n"
     ]
    },
    {
     "name": "stdout",
     "output_type": "stream",
     "text": [
      "1000/1000 [==============================] - 1081s 1s/step - loss: 0.5419 - categorical_accuracy: 0.9432 - val_loss: 0.6662 - val_categorical_accuracy: 0.9287\n",
      "PK Score for epoch 9 is 0.3253\n",
      "Epoch 10/40\n",
      "1000/1000 [==============================] - 930s 930ms/step - loss: 0.5395 - categorical_accuracy: 0.9445 - val_loss: 0.7280 - val_categorical_accuracy: 0.9033\n",
      "PK Score for epoch 10 is 0.3406\n",
      "Epoch 11/40\n",
      "1000/1000 [==============================] - 908s 908ms/step - loss: 0.5440 - categorical_accuracy: 0.9454 - val_loss: 0.7171 - val_categorical_accuracy: 0.9106\n",
      "PK Score for epoch 11 is 0.2852\n",
      "Epoch 12/40\n",
      " 477/1000 [=============>................] - ETA: 9:10 - loss: 0.5379 - categorical_accuracy: 0.9456"
     ]
    },
    {
     "name": "stderr",
     "output_type": "stream",
     "text": [
      "IOPub message rate exceeded.\n",
      "The notebook server will temporarily stop sending output\n",
      "to the client in order to avoid crashing it.\n",
      "To change this limit, set the config variable\n",
      "`--NotebookApp.iopub_msg_rate_limit`.\n",
      "\n",
      "Current values:\n",
      "NotebookApp.iopub_msg_rate_limit=1000.0 (msgs/sec)\n",
      "NotebookApp.rate_limit_window=3.0 (secs)\n",
      "\n"
     ]
    },
    {
     "name": "stdout",
     "output_type": "stream",
     "text": [
      "1000/1000 [==============================] - 871s 871ms/step - loss: 0.5273 - categorical_accuracy: 0.9489 - val_loss: 0.6698 - val_categorical_accuracy: 0.9327\n",
      "PK Score for epoch 18 is 0.2926\n",
      "Epoch 19/40\n",
      "1000/1000 [==============================] - 945s 945ms/step - loss: 0.5387 - categorical_accuracy: 0.9476 - val_loss: 0.6408 - val_categorical_accuracy: 0.9467\n",
      "PK Score for epoch 19 is 0.2885\n",
      "Epoch 20/40\n",
      "1000/1000 [==============================] - 855s 855ms/step - loss: 0.5310 - categorical_accuracy: 0.9493 - val_loss: 0.6306 - val_categorical_accuracy: 0.9401\n",
      "PK Score for epoch 20 is 0.2664\n",
      "Epoch 21/40\n",
      " 214/1000 [=====>........................] - ETA: 10:39 - loss: 0.5330 - categorical_accuracy: 0.9496"
     ]
    },
    {
     "name": "stderr",
     "output_type": "stream",
     "text": [
      "IOPub message rate exceeded.\n",
      "The notebook server will temporarily stop sending output\n",
      "to the client in order to avoid crashing it.\n",
      "To change this limit, set the config variable\n",
      "`--NotebookApp.iopub_msg_rate_limit`.\n",
      "\n",
      "Current values:\n",
      "NotebookApp.iopub_msg_rate_limit=1000.0 (msgs/sec)\n",
      "NotebookApp.rate_limit_window=3.0 (secs)\n",
      "\n"
     ]
    },
    {
     "name": "stdout",
     "output_type": "stream",
     "text": [
      "1000/1000 [==============================] - 989s 989ms/step - loss: 0.5234 - categorical_accuracy: 0.9509 - val_loss: 0.6836 - val_categorical_accuracy: 0.9279\n",
      "PK Score for epoch 25 is 0.3015\n",
      "Epoch 26/40\n",
      "1000/1000 [==============================] - 882s 882ms/step - loss: 0.5282 - categorical_accuracy: 0.9512 - val_loss: 0.6888 - val_categorical_accuracy: 0.9343\n",
      "PK Score for epoch 26 is 0.3119\n",
      "Epoch 27/40\n",
      "1000/1000 [==============================] - 952s 952ms/step - loss: 0.5229 - categorical_accuracy: 0.9524 - val_loss: 0.6352 - val_categorical_accuracy: 0.9403\n",
      "PK Score for epoch 27 is 0.2902\n",
      "Epoch 28/40\n",
      " 624/1000 [=================>............] - ETA: 7:14 - loss: 0.5176 - categorical_accuracy: 0.9526"
     ]
    },
    {
     "name": "stderr",
     "output_type": "stream",
     "text": [
      "IOPub message rate exceeded.\n",
      "The notebook server will temporarily stop sending output\n",
      "to the client in order to avoid crashing it.\n",
      "To change this limit, set the config variable\n",
      "`--NotebookApp.iopub_msg_rate_limit`.\n",
      "\n",
      "Current values:\n",
      "NotebookApp.iopub_msg_rate_limit=1000.0 (msgs/sec)\n",
      "NotebookApp.rate_limit_window=3.0 (secs)\n",
      "\n"
     ]
    },
    {
     "name": "stdout",
     "output_type": "stream",
     "text": [
      "1000/1000 [==============================] - 946s 946ms/step - loss: 0.5173 - categorical_accuracy: 0.9533 - val_loss: 0.6759 - val_categorical_accuracy: 0.9370\n",
      "PK Score for epoch 33 is 0.2939\n",
      "Epoch 34/40\n",
      "1000/1000 [==============================] - 861s 861ms/step - loss: 0.5218 - categorical_accuracy: 0.9522 - val_loss: 0.7038 - val_categorical_accuracy: 0.9348\n",
      "PK Score for epoch 34 is 0.2481\n",
      "Epoch 35/40\n",
      "1000/1000 [==============================] - 965s 965ms/step - loss: 0.5192 - categorical_accuracy: 0.9525 - val_loss: 0.5871 - val_categorical_accuracy: 0.9463\n",
      "PK Score for epoch 35 is 0.3240\n",
      "Epoch 36/40\n",
      " 170/1000 [====>.........................] - ETA: 13:54 - loss: 0.5014 - categorical_accuracy: 0.9553"
     ]
    },
    {
     "name": "stderr",
     "output_type": "stream",
     "text": [
      "IOPub message rate exceeded.\n",
      "The notebook server will temporarily stop sending output\n",
      "to the client in order to avoid crashing it.\n",
      "To change this limit, set the config variable\n",
      "`--NotebookApp.iopub_msg_rate_limit`.\n",
      "\n",
      "Current values:\n",
      "NotebookApp.iopub_msg_rate_limit=1000.0 (msgs/sec)\n",
      "NotebookApp.rate_limit_window=3.0 (secs)\n",
      "\n"
     ]
    },
    {
     "name": "stdout",
     "output_type": "stream",
     "text": [
      "1000/1000 [==============================] - 1042s 1s/step - loss: 0.5156 - categorical_accuracy: 0.9544 - val_loss: 0.5988 - val_categorical_accuracy: 0.9418\n",
      "PK Score for epoch 40 is 0.2911\n",
      "Saved weights to disk\n"
     ]
    }
   ],
   "source": [
    "history, pkscores = net.train(train_files=train_files,\n",
    "                        val_files=val_files,\n",
    "                        test_file=test_file,\n",
    "                        batch_size=8,\n",
    "                        epochs=40,\n",
    "                        steps_per_epoch=1000,\n",
    "                        test_steps=100,\n",
    "                        save=True,\n",
    "                        k=8)"
   ]
  },
  {
   "cell_type": "code",
   "execution_count": 5,
   "metadata": {},
   "outputs": [
    {
     "data": {
      "text/plain": [
       "[0.5830449173530529,\n",
       " 0.3457754951046518,\n",
       " 0.3265167592355809,\n",
       " 0.3212444986221809,\n",
       " 0.3224165923179254,\n",
       " 0.3321310439162231,\n",
       " 0.3037251736200564,\n",
       " 0.3263724118152136,\n",
       " 0.3253345098059093,\n",
       " 0.3406498139343859,\n",
       " 0.28518840618233393,\n",
       " 0.32955565862333136,\n",
       " 0.32041618840440406,\n",
       " 0.29917906516947634,\n",
       " 0.3143777106324841,\n",
       " 0.30256047418077814,\n",
       " 0.30946566107564416,\n",
       " 0.2926091652740933,\n",
       " 0.28850247389825745,\n",
       " 0.26640921316272254,\n",
       " 0.2868019820518581,\n",
       " 0.2709655668637391,\n",
       " 0.2946015364739834,\n",
       " 0.29013915824705927,\n",
       " 0.30150158944435135,\n",
       " 0.3119477546265116,\n",
       " 0.290188048992902,\n",
       " 0.3192460815534551,\n",
       " 0.3507880423315325,\n",
       " 0.29220638995285786,\n",
       " 0.30509736580050617,\n",
       " 0.32500012799854633,\n",
       " 0.29393403654039213,\n",
       " 0.2481005028229539,\n",
       " 0.3240147815183317,\n",
       " 0.28853219380190726,\n",
       " 0.3102782335875117,\n",
       " 0.31015377169723113,\n",
       " 0.27472541714264764,\n",
       " 0.29107063104683745]"
      ]
     },
     "execution_count": 5,
     "metadata": {},
     "output_type": "execute_result"
    }
   ],
   "source": [
    "pkscores.on_train_end()"
   ]
  },
  {
   "cell_type": "markdown",
   "metadata": {},
   "source": [
    "# Visualizing Results"
   ]
  },
  {
   "cell_type": "markdown",
   "metadata": {},
   "source": [
    "## Loss and Accuracy during training"
   ]
  },
  {
   "cell_type": "code",
   "execution_count": 7,
   "metadata": {
    "scrolled": true
   },
   "outputs": [
    {
     "data": {
      "image/png": "[encoded data removed]",
      "text/plain": [
       "<Figure size 432x288 with 1 Axes>"
      ]
     },
     "metadata": {},
     "output_type": "display_data"
    },
    {
     "data": {
      "image/png": "[encoded data removed]",
      "text/plain": [
       "<Figure size 432x288 with 1 Axes>"
      ]
     },
     "metadata": {},
     "output_type": "display_data"
    }
   ],
   "source": [
    "# Plot training & validation accuracy values\n",
    "plt.plot(history.history['categorical_accuracy'])\n",
    "plt.plot(history.history['val_categorical_accuracy'])\n",
    "plt.title('Model accuracy')\n",
    "plt.ylabel('Accuracy')\n",
    "plt.xlabel('Epoch')\n",
    "plt.legend(['Train'], loc='upper left')\n",
    "plt.show()\n",
    "\n",
    "# Plot training & validation loss values\n",
    "plt.plot(history.history['loss'])\n",
    "plt.plot(history.history['val_loss'])\n",
    "plt.title('Model loss')\n",
    "plt.ylabel('Loss')\n",
    "plt.xlabel('Epoch')\n",
    "plt.legend(['Train'], loc='upper left')\n",
    "plt.show()"
   ]
  },
  {
   "cell_type": "code",
   "execution_count": null,
   "metadata": {},
   "outputs": [],
   "source": []
  }
 ],
 "metadata": {
  "kernelspec": {
   "display_name": "Python 3",
   "language": "python",
   "name": "python3"
  },
  "language_info": {
   "codemirror_mode": {
    "name": "ipython",
    "version": 3
   },
   "file_extension": ".py",
   "mimetype": "text/x-python",
   "name": "python",
   "nbconvert_exporter": "python",
   "pygments_lexer": "ipython3",
   "version": "3.5.3"
  }
 },
 "nbformat": 4,
 "nbformat_minor": 2
}
