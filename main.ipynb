{
 "cells": [
  {
   "cell_type": "code",
   "execution_count": 2,
   "metadata": {},
   "outputs": [
    {
     "name": "stdout",
     "output_type": "stream",
     "text": [
      "The autoreload extension is already loaded. To reload it, use:\n",
      "  %reload_ext autoreload\n"
     ]
    }
   ],
   "source": [
    "from SliceNet import SliceNet\n",
    "import matplotlib.pyplot as plt\n",
    "from pathlib import Path\n",
    "import numpy as np\n",
    "import pandas as pd\n",
    "import seaborn as sns\n",
    "import random\n",
    "import math\n",
    "\n",
    "import warnings\n",
    "warnings.filterwarnings('ignore')\n",
    "\n",
    "%load_ext autoreload\n",
    "%autoreload 2"
   ]
  },
  {
   "cell_type": "code",
   "execution_count": 3,
   "metadata": {},
   "outputs": [
    {
     "name": "stdout",
     "output_type": "stream",
     "text": [
      "INFO:tensorflow:Saver not created because there are no variables in the graph to restore\n"
     ]
    },
    {
     "name": "stderr",
     "output_type": "stream",
     "text": [
      "I0420 17:57:00.601013 140063657535232 saver.py:1483] Saver not created because there are no variables in the graph to restore\n"
     ]
    },
    {
     "name": "stdout",
     "output_type": "stream",
     "text": [
      "INFO:tensorflow:Saver not created because there are no variables in the graph to restore\n"
     ]
    },
    {
     "name": "stderr",
     "output_type": "stream",
     "text": [
      "I0420 17:57:01.930090 140063657535232 saver.py:1483] Saver not created because there are no variables in the graph to restore\n"
     ]
    },
    {
     "name": "stdout",
     "output_type": "stream",
     "text": [
      "WARNING:tensorflow:From /home/bmmidei/.local/lib/python3.5/site-packages/keras/backend/tensorflow_backend.py:3445: calling dropout (from tensorflow.python.ops.nn_ops) with keep_prob is deprecated and will be removed in a future version.\n",
      "Instructions for updating:\n",
      "Please use `rate` instead of `keep_prob`. Rate should be set to `rate = 1 - keep_prob`.\n"
     ]
    },
    {
     "name": "stderr",
     "output_type": "stream",
     "text": [
      "W0420 17:57:03.049249 140063657535232 deprecation.py:506] From /home/bmmidei/.local/lib/python3.5/site-packages/keras/backend/tensorflow_backend.py:3445: calling dropout (from tensorflow.python.ops.nn_ops) with keep_prob is deprecated and will be removed in a future version.\n",
      "Instructions for updating:\n",
      "Please use `rate` instead of `keep_prob`. Rate should be set to `rate = 1 - keep_prob`.\n"
     ]
    }
   ],
   "source": [
    "net = SliceNet(classification=True)"
   ]
  },
  {
   "cell_type": "code",
   "execution_count": 5,
   "metadata": {},
   "outputs": [],
   "source": [
    "dataPath = Path('/home/bmmidei/SliceCast/data/train/hdf5_noIntro')\n",
    "files = [str(x) for x in dataPath.glob('**/*') if x.suffix=='.hdf5']\n",
    "\n",
    "val_prop = 0.2\n",
    "mask = random.sample(range(0,len(files)), math.floor(val_prop*len(files)))\n",
    "\n",
    "# randomly assign some files to validation and the rest to train\n",
    "train_files = [x for (i,x) in enumerate(files) if i not in mask]\n",
    "val_files = [x for (i,x) in enumerate(files) if i in mask]"
   ]
  },
  {
   "cell_type": "code",
   "execution_count": null,
   "metadata": {},
   "outputs": [
    {
     "name": "stdout",
     "output_type": "stream",
     "text": [
      "_________________________________________________________________\n",
      "Layer (type)                 Output Shape              Param #   \n",
      "=================================================================\n",
      "encoderIn (InputLayer)       (None, None)              0         \n",
      "_________________________________________________________________\n",
      "encoderOut (Lambda)          (None, None, 512)         0         \n",
      "_________________________________________________________________\n",
      "lstm_1 (Bidirectional)       (None, None, 512)         1574912   \n",
      "_________________________________________________________________\n",
      "lstm_2 (Bidirectional)       (None, None, 512)         1574912   \n",
      "_________________________________________________________________\n",
      "dropout_1 (Dropout)          (None, None, 512)         0         \n",
      "_________________________________________________________________\n",
      "time_distributed_1 (TimeDist (None, None, 256)         131328    \n",
      "_________________________________________________________________\n",
      "dropout_2 (Dropout)          (None, None, 256)         0         \n",
      "_________________________________________________________________\n",
      "time_distributed_2 (TimeDist (None, None, 64)          16448     \n",
      "_________________________________________________________________\n",
      "time_distributed_3 (TimeDist (None, None, 3)           195       \n",
      "=================================================================\n",
      "Total params: 3,297,795\n",
      "Trainable params: 3,297,795\n",
      "Non-trainable params: 0\n",
      "_________________________________________________________________\n",
      "Starting Training\n",
      "WARNING:tensorflow:From /usr/local/lib/python3.5/dist-packages/tensorflow/python/ops/math_ops.py:3066: to_int32 (from tensorflow.python.ops.math_ops) is deprecated and will be removed in a future version.\n",
      "Instructions for updating:\n",
      "Use tf.cast instead.\n"
     ]
    },
    {
     "name": "stderr",
     "output_type": "stream",
     "text": [
      "W0420 17:57:36.901239 140063657535232 deprecation.py:323] From /usr/local/lib/python3.5/dist-packages/tensorflow/python/ops/math_ops.py:3066: to_int32 (from tensorflow.python.ops.math_ops) is deprecated and will be removed in a future version.\n",
      "Instructions for updating:\n",
      "Use tf.cast instead.\n"
     ]
    },
    {
     "name": "stdout",
     "output_type": "stream",
     "text": [
      "Epoch 1/20\n",
      "1000/1000 [==============================] - 1952s 2s/step - loss: 0.6928 - categorical_accuracy: 0.8980 - val_loss: 0.7431 - val_categorical_accuracy: 0.8723\n",
      "PK Score for epoch 1 is 0.6801\n",
      "Epoch 2/20\n",
      "1000/1000 [==============================] - 1752s 2s/step - loss: 0.6546 - categorical_accuracy: 0.9093 - val_loss: 0.7134 - val_categorical_accuracy: 0.9111\n",
      "PK Score for epoch 2 is 0.6471\n",
      "Epoch 3/20\n",
      "1000/1000 [==============================] - 2008s 2s/step - loss: 0.6415 - categorical_accuracy: 0.9168 - val_loss: 0.7147 - val_categorical_accuracy: 0.9185\n",
      "PK Score for epoch 3 is 0.6418\n",
      "Epoch 4/20\n",
      "1000/1000 [==============================] - 1821s 2s/step - loss: 0.6381 - categorical_accuracy: 0.9205 - val_loss: 0.7683 - val_categorical_accuracy: 0.9134\n",
      "PK Score for epoch 4 is 0.6334\n",
      "Epoch 5/20\n",
      "1000/1000 [==============================] - 1896s 2s/step - loss: 0.6148 - categorical_accuracy: 0.9255 - val_loss: 0.7357 - val_categorical_accuracy: 0.9111\n",
      "PK Score for epoch 5 is 0.6371\n",
      "Epoch 6/20\n",
      "1000/1000 [==============================] - 1699s 2s/step - loss: 0.6235 - categorical_accuracy: 0.9268 - val_loss: 0.7878 - val_categorical_accuracy: 0.9218\n",
      "PK Score for epoch 7 is 0.6596\n",
      "Epoch 8/20\n",
      "1000/1000 [==============================] - 1799s 2s/step - loss: 0.6203 - categorical_accuracy: 0.9272 - val_loss: 0.7978 - val_categorical_accuracy: 0.9238\n",
      "PK Score for epoch 8 is 0.5268\n",
      "Epoch 9/20\n",
      "1000/1000 [==============================] - 1779s 2s/step - loss: 0.6167 - categorical_accuracy: 0.9283 - val_loss: 0.8058 - val_categorical_accuracy: 0.9011\n",
      "PK Score for epoch 9 is 0.6634\n",
      "Epoch 10/20\n",
      "1000/1000 [==============================] - 1973s 2s/step - loss: 0.6318 - categorical_accuracy: 0.9206 - val_loss: 0.8303 - val_categorical_accuracy: 0.8862\n",
      "PK Score for epoch 10 is 0.6531\n",
      "Epoch 11/20\n",
      "1000/1000 [==============================] - 1722s 2s/step - loss: 0.6360 - categorical_accuracy: 0.9206 - val_loss: 0.7940 - val_categorical_accuracy: 0.9054\n",
      "PK Score for epoch 11 is 0.5835\n",
      "Epoch 12/20\n",
      " 817/1000 [=======================>......] - ETA: 5:58 - loss: 0.6178 - categorical_accuracy: 0.9259"
     ]
    }
   ],
   "source": [
    "history, pkscores = net.train(train_files=train_files,\n",
    "                        val_files=val_files,\n",
    "                        batch_size=8, \n",
    "                        epochs=20,\n",
    "                        steps_per_epoch=1000,\n",
    "                        maxlen=None,\n",
    "                        save=True)"
   ]
  },
  {
   "cell_type": "code",
   "execution_count": 8,
   "metadata": {},
   "outputs": [
    {
     "name": "stdout",
     "output_type": "stream",
     "text": [
      "<class 'tuple'>\n",
      "[0.5607312117190467, 0.8404294897394937, 0.8676206896158059]\n",
      "['__class__', '__delattr__', '__dict__', '__dir__', '__doc__', '__eq__', '__format__', '__ge__', '__getattribute__', '__gt__', '__hash__', '__init__', '__le__', '__lt__', '__module__', '__ne__', '__new__', '__reduce__', '__reduce_ex__', '__repr__', '__setattr__', '__sizeof__', '__str__', '__subclasshook__', '__weakref__', 'k', 'model', 'num_samples', 'on_batch_begin', 'on_batch_end', 'on_epoch_begin', 'on_epoch_end', 'on_train_begin', 'on_train_end', 'params', 'pk', 'set_model', 'set_params', 'test_file']\n"
     ]
    }
   ],
   "source": [
    "print(type(history))\n",
    "a = history[1]\n",
    "print(a.on_train_end())\n",
    "print(dir(a))"
   ]
  },
  {
   "cell_type": "markdown",
   "metadata": {},
   "source": [
    "# Visualizing Results"
   ]
  },
  {
   "cell_type": "markdown",
   "metadata": {},
   "source": [
    "## Loss and Accuracy during training"
   ]
  },
  {
   "cell_type": "code",
   "execution_count": 5,
   "metadata": {
    "scrolled": true
   },
   "outputs": [
    {
     "name": "stdout",
     "output_type": "stream",
     "text": [
      "1.13.1\n",
      "importing hub\n"
     ]
    },
    {
     "ename": "NameError",
     "evalue": "name 'history' is not defined",
     "output_type": "error",
     "traceback": [
      "\u001b[0;31m---------------------------------------------------------------------------\u001b[0m",
      "\u001b[0;31mNameError\u001b[0m                                 Traceback (most recent call last)",
      "\u001b[0;32m<ipython-input-5-6e3146502284>\u001b[0m in \u001b[0;36m<module>\u001b[0;34m\u001b[0m\n\u001b[1;32m      1\u001b[0m \u001b[0;31m# Plot training & validation accuracy values\u001b[0m\u001b[0;34m\u001b[0m\u001b[0;34m\u001b[0m\u001b[0m\n\u001b[0;32m----> 2\u001b[0;31m \u001b[0mplt\u001b[0m\u001b[0;34m.\u001b[0m\u001b[0mplot\u001b[0m\u001b[0;34m(\u001b[0m\u001b[0mhistory\u001b[0m\u001b[0;34m.\u001b[0m\u001b[0mhistory\u001b[0m\u001b[0;34m[\u001b[0m\u001b[0;34m'categorical_accuracy'\u001b[0m\u001b[0;34m]\u001b[0m\u001b[0;34m)\u001b[0m\u001b[0;34m\u001b[0m\u001b[0m\n\u001b[0m\u001b[1;32m      3\u001b[0m \u001b[0mplt\u001b[0m\u001b[0;34m.\u001b[0m\u001b[0mplot\u001b[0m\u001b[0;34m(\u001b[0m\u001b[0mhistory\u001b[0m\u001b[0;34m.\u001b[0m\u001b[0mhistory\u001b[0m\u001b[0;34m[\u001b[0m\u001b[0;34m'val_categorical_accuracy'\u001b[0m\u001b[0;34m]\u001b[0m\u001b[0;34m)\u001b[0m\u001b[0;34m\u001b[0m\u001b[0m\n\u001b[1;32m      4\u001b[0m \u001b[0mplt\u001b[0m\u001b[0;34m.\u001b[0m\u001b[0mtitle\u001b[0m\u001b[0;34m(\u001b[0m\u001b[0;34m'Model accuracy'\u001b[0m\u001b[0;34m)\u001b[0m\u001b[0;34m\u001b[0m\u001b[0m\n\u001b[1;32m      5\u001b[0m \u001b[0mplt\u001b[0m\u001b[0;34m.\u001b[0m\u001b[0mylabel\u001b[0m\u001b[0;34m(\u001b[0m\u001b[0;34m'Accuracy'\u001b[0m\u001b[0;34m)\u001b[0m\u001b[0;34m\u001b[0m\u001b[0m\n",
      "\u001b[0;31mNameError\u001b[0m: name 'history' is not defined"
     ]
    }
   ],
   "source": [
    "# Plot training & validation accuracy values\n",
    "plt.plot(history.history['categorical_accuracy'])\n",
    "plt.plot(history.history['val_categorical_accuracy'])\n",
    "plt.title('Model accuracy')\n",
    "plt.ylabel('Accuracy')\n",
    "plt.xlabel('Epoch')\n",
    "plt.legend(['Train'], loc='upper left')\n",
    "plt.show()\n",
    "\n",
    "# Plot training & validation loss values\n",
    "plt.plot(history.history['loss'])\n",
    "plt.plot(history.history['val_loss'])\n",
    "plt.title('Model loss')\n",
    "plt.ylabel('Loss')\n",
    "plt.xlabel('Epoch')\n",
    "plt.legend(['Train'], loc='upper left')\n",
    "plt.show()"
   ]
  },
  {
   "cell_type": "markdown",
   "metadata": {},
   "source": [
    "## Sample predictions on unseen wiki articles"
   ]
  },
  {
   "cell_type": "code",
   "execution_count": 39,
   "metadata": {},
   "outputs": [
    {
     "name": "stdout",
     "output_type": "stream",
     "text": [
      "Starting Testing\n",
      "Loaded weights from disk\n"
     ]
    },
    {
     "name": "stderr",
     "output_type": "stream",
     "text": [
      "Exception ignored in: <bound method BaseSession._Callable.__del__ of <tensorflow.python.client.session.BaseSession._Callable object at 0x7ff65c128a58>>\n",
      "Traceback (most recent call last):\n",
      "  File \"/usr/local/lib/python3.5/dist-packages/tensorflow/python/client/session.py\", line 1455, in __del__\n",
      "    self._session._session, self._handle, status)\n",
      "  File \"/usr/local/lib/python3.5/dist-packages/tensorflow/python/framework/errors_impl.py\", line 528, in __exit__\n",
      "    c_api.TF_GetCode(self.status.status))\n",
      "tensorflow.python.framework.errors_impl.CancelledError: Session has been closed.\n"
     ]
    }
   ],
   "source": [
    "test_file = val_files[1]\n",
    "weights_path = '/home/bmmidei/SliceCast/models/weights_epoch008.h5'\n",
    "\n",
    "preds, labels = net.predict(test_file=test_file,\n",
    "                    num_samples=4,\n",
    "                    weights_path=weights_path)"
   ]
  },
  {
   "cell_type": "code",
   "execution_count": 46,
   "metadata": {},
   "outputs": [
    {
     "name": "stdout",
     "output_type": "stream",
     "text": [
      "(4, 62, 3)\n",
      "(4, 62, 3)\n",
      "(4, 62)\n",
      "(4, 62)\n",
      "[[0.         1.         0.         1.        ]\n",
      " [1.         0.         0.         0.        ]\n",
      " [1.         0.         0.         0.        ]\n",
      " [1.         0.         0.         0.        ]\n",
      " [1.         0.         0.         0.        ]\n",
      " [0.10549998 0.89449602 0.00000392 0.        ]\n",
      " [0.40249452 0.59746313 0.0000424  0.        ]\n",
      " [0.00000776 0.99999225 0.         0.        ]\n",
      " [0.99999726 0.0000027  0.         0.        ]\n",
      " [0.96999109 0.03000896 0.         0.        ]\n",
      " [0.99980158 0.00019848 0.         0.        ]\n",
      " [0.76041466 0.23958451 0.00000079 0.        ]\n",
      " [0.41718554 0.58278072 0.00003367 0.        ]\n",
      " [0.9999963  0.00000368 0.         0.        ]\n",
      " [0.99999905 0.00000101 0.         0.        ]\n",
      " [0.14681743 0.85317922 0.00000339 0.        ]\n",
      " [0.00363322 0.99636674 0.         0.        ]\n",
      " [0.26228467 0.7377128  0.00000254 0.        ]\n",
      " [0.99999952 0.00000042 0.         0.        ]\n",
      " [0.54945505 0.45049039 0.00005462 0.        ]\n",
      " [0.99996555 0.00003445 0.         0.        ]\n",
      " [0.99998403 0.00001592 0.         0.        ]\n",
      " [0.999479   0.00052101 0.         0.        ]\n",
      " [0.         1.         0.         1.        ]\n",
      " [0.93774951 0.06225054 0.         0.        ]\n",
      " [0.99999797 0.000002   0.         0.        ]\n",
      " [1.         0.         0.         0.        ]\n",
      " [0.00000015 0.99999988 0.         0.        ]\n",
      " [0.99910259 0.00089743 0.         0.        ]\n",
      " [1.         0.         0.         0.        ]\n",
      " [1.         0.         0.         0.        ]\n",
      " [1.         0.         0.         0.        ]\n",
      " [1.         0.         0.         0.        ]\n",
      " [1.         0.         0.         0.        ]\n",
      " [0.99999571 0.00000424 0.         0.        ]\n",
      " [1.         0.         0.         0.        ]\n",
      " [1.         0.         0.         0.        ]\n",
      " [0.         1.         0.         0.        ]\n",
      " [0.99816626 0.00183371 0.         0.        ]\n",
      " [0.04523235 0.9547677  0.         1.        ]\n",
      " [0.99999869 0.0000013  0.         0.        ]\n",
      " [0.99908185 0.00091813 0.         0.        ]\n",
      " [0.99999654 0.00000348 0.         0.        ]\n",
      " [0.99999964 0.0000003  0.         0.        ]\n",
      " [0.9999975  0.00000247 0.         0.        ]\n",
      " [1.         0.         0.         0.        ]\n",
      " [0.00026074 0.99973923 0.         0.        ]\n",
      " [0.45178339 0.54821008 0.00000653 0.        ]\n",
      " [0.99998987 0.00001012 0.         0.        ]\n",
      " [0.29438171 0.70561457 0.00000372 0.        ]\n",
      " [0.99999344 0.00000659 0.         0.        ]\n",
      " [0.99999976 0.00000019 0.         0.        ]\n",
      " [0.99999249 0.00000754 0.         0.        ]\n",
      " [0.99999738 0.00000261 0.         0.        ]\n",
      " [0.00000001 1.         0.         0.        ]\n",
      " [0.25577354 0.7442261  0.00000035 1.        ]\n",
      " [0.99911958 0.00088046 0.         0.        ]\n",
      " [0.98265725 0.01734279 0.         0.        ]\n",
      " [1.         0.         0.         0.        ]\n",
      " [1.         0.         0.         0.        ]\n",
      " [1.         0.         0.         0.        ]\n",
      " [1.         0.00000001 0.         0.        ]]\n"
     ]
    }
   ],
   "source": [
    "np.set_printoptions(suppress=True)\n",
    "print(preds.shape)\n",
    "print(labels.shape)\n",
    "\n",
    "\n",
    "#preds_mod[:,:,1] = np.add(preds_mod[:,:,1], -0.7)\n",
    "p = np.argmax(preds, axis=2)\n",
    "l = np.argmax(labels, axis=2)\n",
    "\n",
    "idx = 1\n",
    "listview = np.concatenate([preds, np.expand_dims(l, -1)], axis=2)\n",
    "print(listview[idx])\n"
   ]
  },
  {
   "cell_type": "code",
   "execution_count": 48,
   "metadata": {},
   "outputs": [
    {
     "data": {
      "text/plain": [
       "<matplotlib.axes._subplots.AxesSubplot at 0x7ff65a89e2b0>"
      ]
     },
     "execution_count": 48,
     "metadata": {},
     "output_type": "execute_result"
    },
    {
     "data": {
      "image/png": "[encoded data removed]",
      "text/plain": [
       "<Figure size 720x360 with 2 Axes>"
      ]
     },
     "metadata": {},
     "output_type": "display_data"
    }
   ],
   "source": [
    "df = pd.DataFrame()\n",
    "df['preds'] = p[idx,:]\n",
    "df['labels'] = l[idx]\n",
    "df['sent_number'] = df.index\n",
    "\n",
    "fig, axes = plt.subplots(nrows=2, ncols=1)\n",
    "\n",
    "df.plot(x='sent_number', y='preds', figsize=(10,5), grid=True, ax=axes[0])\n",
    "df.plot(x='sent_number', y='labels', figsize=(10,5), grid=True, ax=axes[1], color='green')"
   ]
  },
  {
   "cell_type": "markdown",
   "metadata": {},
   "source": [
    "## Sample predictions on unseen podcast data"
   ]
  },
  {
   "cell_type": "code",
   "execution_count": 49,
   "metadata": {},
   "outputs": [
    {
     "name": "stdout",
     "output_type": "stream",
     "text": [
      "Starting Testing\n",
      "Loaded weights from disk\n"
     ]
    },
    {
     "name": "stderr",
     "output_type": "stream",
     "text": [
      "Exception ignored in: <bound method BaseSession._Callable.__del__ of <tensorflow.python.client.session.BaseSession._Callable object at 0x7ff65c1966a0>>\n",
      "Traceback (most recent call last):\n",
      "  File \"/usr/local/lib/python3.5/dist-packages/tensorflow/python/client/session.py\", line 1455, in __del__\n",
      "    self._session._session, self._handle, status)\n",
      "  File \"/usr/local/lib/python3.5/dist-packages/tensorflow/python/framework/errors_impl.py\", line 528, in __exit__\n",
      "    c_api.TF_GetCode(self.status.status))\n",
      "tensorflow.python.framework.errors_impl.CancelledError: Session has been closed.\n"
     ]
    }
   ],
   "source": [
    "test_file = '/home/bmmidei/SliceCast/data/podcasts/hdf5/batch0_0.hdf5'\n",
    "preds, labels = net.predict(test_file=test_file,\n",
    "                    num_samples=4,\n",
    "                    weights_path=weights_path)"
   ]
  },
  {
   "cell_type": "code",
   "execution_count": 83,
   "metadata": {},
   "outputs": [
    {
     "name": "stdout",
     "output_type": "stream",
     "text": [
      "(4, 1625, 3)\n",
      "(4, 1625, 3)\n",
      "[[ 0.         -1.          1.        ]\n",
      " [ 0.         -1.          1.        ]\n",
      " [ 0.         -1.          1.        ]\n",
      " [ 0.         -1.          1.        ]\n",
      " [ 0.         -1.          1.        ]\n",
      " [ 0.         -1.          1.        ]\n",
      " [ 0.         -1.          1.        ]\n",
      " [ 0.         -1.          1.        ]\n",
      " [ 0.         -1.          1.        ]\n",
      " [ 0.         -1.          1.        ]\n",
      " [ 0.         -1.          1.        ]\n",
      " [ 0.         -1.          1.        ]\n",
      " [ 0.         -1.          1.        ]\n",
      " [ 0.         -1.          1.        ]\n",
      " [ 0.         -1.          1.        ]\n",
      " [ 0.         -1.          1.        ]\n",
      " [ 0.          0.          0.        ]\n",
      " [ 1.         -1.          0.        ]\n",
      " [ 1.         -1.          0.        ]\n",
      " [ 1.         -1.          0.        ]\n",
      " [ 1.         -1.          0.        ]\n",
      " [ 1.         -1.          0.        ]\n",
      " [ 0.99969757 -0.9996975   0.        ]\n",
      " [ 0.5878115  -0.58783674  0.00002518]\n",
      " [ 0.          0.          0.        ]\n",
      " [ 1.         -1.          0.        ]\n",
      " [ 0.9846836  -0.9846835   0.        ]\n",
      " [ 0.50975347 -0.5098702   0.00011668]\n",
      " [ 0.00011484 -0.0001148   0.        ]\n",
      " [ 0.9934076  -0.99340767  0.        ]\n",
      " [ 0.9999981  -0.99999815  0.        ]\n",
      " [ 0.59077144 -0.5911254   0.00035396]\n",
      " [ 0.9998172  -0.9998172   0.        ]\n",
      " [ 0.00009197 -0.00009203  0.        ]\n",
      " [ 0.9999994  -0.9999994   0.        ]\n",
      " [ 0.9999912  -0.9999912   0.        ]\n",
      " [ 1.         -0.99999994  0.        ]\n",
      " [ 1.         -1.          0.        ]\n",
      " [ 0.9901661  -0.99016607  0.        ]\n",
      " [ 1.         -1.          0.        ]]\n"
     ]
    }
   ],
   "source": [
    "np.set_printoptions(suppress=True)\n",
    "print(preds.shape)\n",
    "print(labels.shape)\n",
    "preds_mod = preds.copy()\n",
    "#print(preds_mod)\n",
    "\n",
    "preds_mod[:,:,1] = np.add(preds_mod[:,:,1], -1)\n",
    "p = np.argmax(preds_mod, axis=2)\n",
    "l = np.argmax(labels, axis=2)\n",
    "print(preds_mod[1,180:220])\n",
    "idx = 1\n",
    "listview = np.concatenate([preds_mod, np.expand_dims(l, -1)], axis=2)\n",
    "#print(listview[idx])"
   ]
  },
  {
   "cell_type": "code",
   "execution_count": 84,
   "metadata": {},
   "outputs": [
    {
     "data": {
      "text/plain": [
       "<matplotlib.axes._subplots.AxesSubplot at 0x7ff69e73fb38>"
      ]
     },
     "execution_count": 84,
     "metadata": {},
     "output_type": "execute_result"
    },
    {
     "data": {
      "image/png": "[encoded data removed]",
      "text/plain": [
       "<Figure size 720x360 with 2 Axes>"
      ]
     },
     "metadata": {},
     "output_type": "display_data"
    }
   ],
   "source": [
    "df = pd.DataFrame()\n",
    "df['preds'] = p[idx,:]\n",
    "df['labels'] = l[idx]\n",
    "df['sent_number'] = df.index\n",
    "\n",
    "fig, axes = plt.subplots(nrows=2, ncols=1)\n",
    "\n",
    "df.plot(x='sent_number', y='preds', figsize=(10,5), grid=True, ax=axes[0])\n",
    "df.plot(x='sent_number', y='labels', figsize=(10,5), grid=True, ax=axes[1], color='green')"
   ]
  },
  {
   "cell_type": "code",
   "execution_count": null,
   "metadata": {},
   "outputs": [],
   "source": []
  }
 ],
 "metadata": {
  "kernelspec": {
   "display_name": "Python 3",
   "language": "python",
   "name": "python3"
  },
  "language_info": {
   "codemirror_mode": {
    "name": "ipython",
    "version": 3
   },
   "file_extension": ".py",
   "mimetype": "text/x-python",
   "name": "python",
   "nbconvert_exporter": "python",
   "pygments_lexer": "ipython3",
   "version": "3.5.3"
  }
 },
 "nbformat": 4,
 "nbformat_minor": 2
}
