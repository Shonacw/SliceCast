{
 "cells": [
  {
   "cell_type": "code",
   "execution_count": 1,
   "metadata": {},
   "outputs": [
    {
     "name": "stderr",
     "output_type": "stream",
     "text": [
      "WARNING: Logging before flag parsing goes to stderr.\n",
      "W0423 01:43:23.577135 140520593090304 __init__.py:56] Some hub symbols are not available because TensorFlow version is less than 1.14\n"
     ]
    },
    {
     "name": "stdout",
     "output_type": "stream",
     "text": [
      "1.13.1\n"
     ]
    },
    {
     "name": "stderr",
     "output_type": "stream",
     "text": [
      "Using TensorFlow backend.\n"
     ]
    },
    {
     "name": "stdout",
     "output_type": "stream",
     "text": [
      "importing hub\n",
      "WARNING:tensorflow:From /usr/local/lib/python3.5/dist-packages/tensorflow/python/ops/control_flow_ops.py:3632: colocate_with (from tensorflow.python.framework.ops) is deprecated and will be removed in a future version.\n",
      "Instructions for updating:\n",
      "Colocations handled automatically by placer.\n"
     ]
    },
    {
     "name": "stderr",
     "output_type": "stream",
     "text": [
      "W0423 01:43:25.084817 140520593090304 deprecation.py:323] From /usr/local/lib/python3.5/dist-packages/tensorflow/python/ops/control_flow_ops.py:3632: colocate_with (from tensorflow.python.framework.ops) is deprecated and will be removed in a future version.\n",
      "Instructions for updating:\n",
      "Colocations handled automatically by placer.\n"
     ]
    }
   ],
   "source": [
    "from SliceNet import SliceNet\n",
    "import matplotlib.pyplot as plt\n",
    "from pathlib import Path\n",
    "import numpy as np\n",
    "import pandas as pd\n",
    "import seaborn as sns\n",
    "import random\n",
    "import math\n",
    "\n",
    "import warnings\n",
    "warnings.filterwarnings('ignore')\n",
    "\n",
    "%load_ext autoreload\n",
    "%autoreload 2"
   ]
  },
  {
   "cell_type": "code",
   "execution_count": 2,
   "metadata": {},
   "outputs": [
    {
     "name": "stdout",
     "output_type": "stream",
     "text": [
      "INFO:tensorflow:Saver not created because there are no variables in the graph to restore\n"
     ]
    },
    {
     "name": "stderr",
     "output_type": "stream",
     "text": [
      "I0423 01:44:00.867871 140520593090304 saver.py:1483] Saver not created because there are no variables in the graph to restore\n"
     ]
    },
    {
     "name": "stdout",
     "output_type": "stream",
     "text": [
      "INFO:tensorflow:Saver not created because there are no variables in the graph to restore\n"
     ]
    },
    {
     "name": "stderr",
     "output_type": "stream",
     "text": [
      "I0423 01:44:02.198460 140520593090304 saver.py:1483] Saver not created because there are no variables in the graph to restore\n"
     ]
    },
    {
     "name": "stdout",
     "output_type": "stream",
     "text": [
      "WARNING:tensorflow:From /home/bmmidei/.local/lib/python3.5/site-packages/keras/backend/tensorflow_backend.py:3445: calling dropout (from tensorflow.python.ops.nn_ops) with keep_prob is deprecated and will be removed in a future version.\n",
      "Instructions for updating:\n",
      "Please use `rate` instead of `keep_prob`. Rate should be set to `rate = 1 - keep_prob`.\n"
     ]
    },
    {
     "name": "stderr",
     "output_type": "stream",
     "text": [
      "W0423 01:44:03.286976 140520593090304 deprecation.py:506] From /home/bmmidei/.local/lib/python3.5/site-packages/keras/backend/tensorflow_backend.py:3445: calling dropout (from tensorflow.python.ops.nn_ops) with keep_prob is deprecated and will be removed in a future version.\n",
      "Instructions for updating:\n",
      "Please use `rate` instead of `keep_prob`. Rate should be set to `rate = 1 - keep_prob`.\n"
     ]
    }
   ],
   "source": [
    "weights_path = '/home/bmmidei/SliceCast/models/04_20_2019_2300_final.h5'\n",
    "\n",
    "net = SliceNet(classification=True, pretrain=True, weights_path=weights_path)"
   ]
  },
  {
   "cell_type": "code",
   "execution_count": 5,
   "metadata": {},
   "outputs": [],
   "source": [
    "dataPath = Path('/home/bmmidei/SliceCast/data/podcasts/hdf5_noIntro')\n",
    "files = [str(x) for x in dataPath.glob('**/*') if x.suffix=='.hdf5']\n",
    "\n",
    "val_prop = 0.25\n",
    "mask = random.sample(range(0,len(files)), math.floor(val_prop*len(files)))\n",
    "\n",
    "# randomly assign some files to validation and the rest to train\n",
    "train_files = [x for (i,x) in enumerate(files) if i not in mask]\n",
    "val_files = [x for (i,x) in enumerate(files) if i in mask]"
   ]
  },
  {
   "cell_type": "code",
   "execution_count": 8,
   "metadata": {},
   "outputs": [
    {
     "name": "stdout",
     "output_type": "stream",
     "text": [
      "_________________________________________________________________\n",
      "Layer (type)                 Output Shape              Param #   \n",
      "=================================================================\n",
      "encoderIn (InputLayer)       (None, None)              0         \n",
      "_________________________________________________________________\n",
      "encoderOut (Lambda)          (None, None, 512)         0         \n",
      "_________________________________________________________________\n",
      "lstm_1 (Bidirectional)       (None, None, 512)         1574912   \n",
      "_________________________________________________________________\n",
      "lstm_2 (Bidirectional)       (None, None, 512)         1574912   \n",
      "_________________________________________________________________\n",
      "dropout_1 (Dropout)          (None, None, 512)         0         \n",
      "_________________________________________________________________\n",
      "time_distributed_1 (TimeDist (None, None, 256)         131328    \n",
      "_________________________________________________________________\n",
      "dropout_2 (Dropout)          (None, None, 256)         0         \n",
      "_________________________________________________________________\n",
      "time_distributed_2 (TimeDist (None, None, 64)          16448     \n",
      "_________________________________________________________________\n",
      "time_distributed_3 (TimeDist (None, None, 3)           195       \n",
      "=================================================================\n",
      "Total params: 3,297,795\n",
      "Trainable params: 3,297,795\n",
      "Non-trainable params: 0\n",
      "_________________________________________________________________\n",
      "Starting Training\n",
      "Epoch 1/10\n",
      "10/10 [==============================] - 154s 15s/step - loss: 0.5317 - categorical_accuracy: 0.9795 - val_loss: 0.5384 - val_categorical_accuracy: 0.9891\n",
      "PK Score for epoch 1 is 0.3635\n",
      "Epoch 2/10\n",
      "10/10 [==============================] - 137s 14s/step - loss: 0.5713 - categorical_accuracy: 0.9896 - val_loss: 0.5301 - val_categorical_accuracy: 0.9891\n",
      "PK Score for epoch 2 is 0.3451\n",
      "Epoch 3/10\n",
      "10/10 [==============================] - 137s 14s/step - loss: 0.5462 - categorical_accuracy: 0.9889 - val_loss: 0.5498 - val_categorical_accuracy: 0.9870\n",
      "PK Score for epoch 3 is 0.3324\n",
      "Epoch 4/10\n",
      "10/10 [==============================] - 147s 15s/step - loss: 0.5350 - categorical_accuracy: 0.9874 - val_loss: 0.5547 - val_categorical_accuracy: 0.9840\n",
      "PK Score for epoch 4 is 0.3259\n",
      "Epoch 5/10\n",
      "10/10 [==============================] - 147s 15s/step - loss: 0.5260 - categorical_accuracy: 0.9890 - val_loss: 0.5365 - val_categorical_accuracy: 0.9863\n",
      "PK Score for epoch 5 is 0.3336\n",
      "Epoch 6/10\n",
      "10/10 [==============================] - 139s 14s/step - loss: 0.5536 - categorical_accuracy: 0.9892 - val_loss: 0.5642 - val_categorical_accuracy: 0.9852\n",
      "PK Score for epoch 6 is 0.3191\n",
      "Epoch 7/10\n",
      "10/10 [==============================] - 142s 14s/step - loss: 0.5347 - categorical_accuracy: 0.9900 - val_loss: 0.5461 - val_categorical_accuracy: 0.9870\n",
      "PK Score for epoch 7 is 0.2763\n",
      "Epoch 8/10\n",
      "10/10 [==============================] - 146s 15s/step - loss: 0.5341 - categorical_accuracy: 0.9913 - val_loss: 0.5312 - val_categorical_accuracy: 0.9880\n",
      "PK Score for epoch 8 is 0.3025\n",
      "Epoch 9/10\n",
      "10/10 [==============================] - 147s 15s/step - loss: 0.5394 - categorical_accuracy: 0.9911 - val_loss: 0.5436 - val_categorical_accuracy: 0.9876\n",
      "PK Score for epoch 9 is 0.2761\n",
      "Epoch 10/10\n",
      "10/10 [==============================] - 153s 15s/step - loss: 0.5090 - categorical_accuracy: 0.9919 - val_loss: 0.5300 - val_categorical_accuracy: 0.9890\n",
      "PK Score for epoch 10 is 0.2534\n",
      "Saved weights to disk\n"
     ]
    }
   ],
   "source": [
    "history, pkscores = net.train(train_files=train_files,\n",
    "                        val_files=val_files,\n",
    "                        batch_size=4, \n",
    "                        epochs=10,\n",
    "                        steps_per_epoch=10,\n",
    "                        maxlen=None,\n",
    "                        save=True)"
   ]
  },
  {
   "cell_type": "code",
   "execution_count": 9,
   "metadata": {},
   "outputs": [
    {
     "data": {
      "text/plain": [
       "[0.3635164785643556,\n",
       " 0.345133065868177,\n",
       " 0.33237018230197196,\n",
       " 0.3259276655112923,\n",
       " 0.33355379225285625,\n",
       " 0.3191059558133643,\n",
       " 0.2762732013303988,\n",
       " 0.3025143206038755,\n",
       " 0.27613157124753623,\n",
       " 0.25337749698671036]"
      ]
     },
     "execution_count": 9,
     "metadata": {},
     "output_type": "execute_result"
    }
   ],
   "source": [
    "pkscores.on_train_end()"
   ]
  },
  {
   "cell_type": "markdown",
   "metadata": {},
   "source": [
    "# Visualizing Results"
   ]
  },
  {
   "cell_type": "markdown",
   "metadata": {},
   "source": [
    "## Loss and Accuracy during training"
   ]
  },
  {
   "cell_type": "code",
   "execution_count": 10,
   "metadata": {
    "scrolled": true
   },
   "outputs": [
    {
     "data": {
      "image/png": "[encoded data removed]",
      "text/plain": [
       "<Figure size 432x288 with 1 Axes>"
      ]
     },
     "metadata": {},
     "output_type": "display_data"
    },
    {
     "data": {
      "image/png": "[encoded data removed]",
      "text/plain": [
       "<Figure size 432x288 with 1 Axes>"
      ]
     },
     "metadata": {},
     "output_type": "display_data"
    }
   ],
   "source": [
    "# Plot training & validation accuracy values\n",
    "plt.plot(history.history['categorical_accuracy'])\n",
    "plt.plot(history.history['val_categorical_accuracy'])\n",
    "plt.title('Model accuracy')\n",
    "plt.ylabel('Accuracy')\n",
    "plt.xlabel('Epoch')\n",
    "plt.legend(['Train'], loc='upper left')\n",
    "plt.show()\n",
    "\n",
    "# Plot training & validation loss values\n",
    "plt.plot(history.history['loss'])\n",
    "plt.plot(history.history['val_loss'])\n",
    "plt.title('Model loss')\n",
    "plt.ylabel('Loss')\n",
    "plt.xlabel('Epoch')\n",
    "plt.legend(['Train'], loc='upper left')\n",
    "plt.show()"
   ]
  }
 ],
 "metadata": {
  "kernelspec": {
   "display_name": "Python 3",
   "language": "python",
   "name": "python3"
  },
  "language_info": {
   "codemirror_mode": {
    "name": "ipython",
    "version": 3
   },
   "file_extension": ".py",
   "mimetype": "text/x-python",
   "name": "python",
   "nbconvert_exporter": "python",
   "pygments_lexer": "ipython3",
   "version": "3.5.3"
  }
 },
 "nbformat": 4,
 "nbformat_minor": 2
}
