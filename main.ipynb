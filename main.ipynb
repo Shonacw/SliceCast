{
 "cells": [
  {
   "cell_type": "code",
   "execution_count": 1,
   "metadata": {},
   "outputs": [
    {
     "name": "stderr",
     "output_type": "stream",
     "text": [
      "WARNING: Logging before flag parsing goes to stderr.\n",
      "W0423 13:50:38.827433 139801443358464 __init__.py:56] Some hub symbols are not available because TensorFlow version is less than 1.14\n"
     ]
    },
    {
     "name": "stdout",
     "output_type": "stream",
     "text": [
      "1.13.1\n"
     ]
    },
    {
     "name": "stderr",
     "output_type": "stream",
     "text": [
      "Using TensorFlow backend.\n"
     ]
    },
    {
     "name": "stdout",
     "output_type": "stream",
     "text": [
      "importing hub\n",
      "WARNING:tensorflow:From /usr/local/lib/python3.5/dist-packages/tensorflow/python/ops/control_flow_ops.py:3632: colocate_with (from tensorflow.python.framework.ops) is deprecated and will be removed in a future version.\n",
      "Instructions for updating:\n",
      "Colocations handled automatically by placer.\n"
     ]
    },
    {
     "name": "stderr",
     "output_type": "stream",
     "text": [
      "W0423 13:50:40.225605 139801443358464 deprecation.py:323] From /usr/local/lib/python3.5/dist-packages/tensorflow/python/ops/control_flow_ops.py:3632: colocate_with (from tensorflow.python.framework.ops) is deprecated and will be removed in a future version.\n",
      "Instructions for updating:\n",
      "Colocations handled automatically by placer.\n"
     ]
    }
   ],
   "source": [
    "from SliceNet import SliceNet\n",
    "import matplotlib.pyplot as plt\n",
    "from pathlib import Path\n",
    "import numpy as np\n",
    "import pandas as pd\n",
    "import seaborn as sns\n",
    "import random\n",
    "import math\n",
    "\n",
    "import warnings\n",
    "warnings.filterwarnings('ignore')\n",
    "\n",
    "%load_ext autoreload\n",
    "%autoreload 2"
   ]
  },
  {
   "cell_type": "code",
   "execution_count": 2,
   "metadata": {},
   "outputs": [
    {
     "name": "stdout",
     "output_type": "stream",
     "text": [
      "INFO:tensorflow:Saver not created because there are no variables in the graph to restore\n"
     ]
    },
    {
     "name": "stderr",
     "output_type": "stream",
     "text": [
      "I0423 13:50:42.812459 139801443358464 saver.py:1483] Saver not created because there are no variables in the graph to restore\n"
     ]
    },
    {
     "name": "stdout",
     "output_type": "stream",
     "text": [
      "INFO:tensorflow:Saver not created because there are no variables in the graph to restore\n"
     ]
    },
    {
     "name": "stderr",
     "output_type": "stream",
     "text": [
      "I0423 13:50:44.036776 139801443358464 saver.py:1483] Saver not created because there are no variables in the graph to restore\n"
     ]
    },
    {
     "name": "stdout",
     "output_type": "stream",
     "text": [
      "WARNING:tensorflow:From /home/bmmidei/.local/lib/python3.5/site-packages/keras/backend/tensorflow_backend.py:3445: calling dropout (from tensorflow.python.ops.nn_ops) with keep_prob is deprecated and will be removed in a future version.\n",
      "Instructions for updating:\n",
      "Please use `rate` instead of `keep_prob`. Rate should be set to `rate = 1 - keep_prob`.\n"
     ]
    },
    {
     "name": "stderr",
     "output_type": "stream",
     "text": [
      "W0423 13:50:45.177235 139801443358464 deprecation.py:506] From /home/bmmidei/.local/lib/python3.5/site-packages/keras/backend/tensorflow_backend.py:3445: calling dropout (from tensorflow.python.ops.nn_ops) with keep_prob is deprecated and will be removed in a future version.\n",
      "Instructions for updating:\n",
      "Please use `rate` instead of `keep_prob`. Rate should be set to `rate = 1 - keep_prob`.\n"
     ]
    }
   ],
   "source": [
    "weights_path = '/home/bmmidei/SliceCast/models/04_20_2019_2300_final.h5'\n",
    "\n",
    "net = SliceNet(classification=True, pretrain=True, weights_path=weights_path)"
   ]
  },
  {
   "cell_type": "code",
   "execution_count": 4,
   "metadata": {},
   "outputs": [
    {
     "name": "stdout",
     "output_type": "stream",
     "text": [
      "/home/bmmidei/SliceCast/data/podcasts/hdf5/batch0_2.hdf5\n"
     ]
    }
   ],
   "source": [
    "dataPath = Path('/home/bmmidei/SliceCast/data/podcasts/hdf5')\n",
    "files = [str(x) for x in dataPath.glob('**/*') if x.suffix=='.hdf5']\n",
    "\n",
    "val_prop = 0.25\n",
    "mask = random.sample(range(0,len(files)), math.floor(val_prop*len(files)))\n",
    "\n",
    "# randomly assign some files to validation and the rest to train\n",
    "train_files = [x for (i,x) in enumerate(files) if i not in mask]\n",
    "val_files = [x for (i,x) in enumerate(files) if i in mask]\n",
    "test_file = val_files[0]\n",
    "print(test_file)"
   ]
  },
  {
   "cell_type": "code",
   "execution_count": 5,
   "metadata": {},
   "outputs": [
    {
     "name": "stdout",
     "output_type": "stream",
     "text": [
      "_________________________________________________________________\n",
      "Layer (type)                 Output Shape              Param #   \n",
      "=================================================================\n",
      "encoderIn (InputLayer)       (None, None)              0         \n",
      "_________________________________________________________________\n",
      "encoderOut (Lambda)          (None, None, 512)         0         \n",
      "_________________________________________________________________\n",
      "lstm_1 (Bidirectional)       (None, None, 512)         1574912   \n",
      "_________________________________________________________________\n",
      "lstm_2 (Bidirectional)       (None, None, 512)         1574912   \n",
      "_________________________________________________________________\n",
      "dropout_1 (Dropout)          (None, None, 512)         0         \n",
      "_________________________________________________________________\n",
      "time_distributed_1 (TimeDist (None, None, 256)         131328    \n",
      "_________________________________________________________________\n",
      "dropout_2 (Dropout)          (None, None, 256)         0         \n",
      "_________________________________________________________________\n",
      "time_distributed_2 (TimeDist (None, None, 64)          16448     \n",
      "_________________________________________________________________\n",
      "time_distributed_3 (TimeDist (None, None, 3)           195       \n",
      "=================================================================\n",
      "Total params: 3,297,795\n",
      "Trainable params: 3,297,795\n",
      "Non-trainable params: 0\n",
      "_________________________________________________________________\n",
      "Starting Training\n",
      "WARNING:tensorflow:From /usr/local/lib/python3.5/dist-packages/tensorflow/python/ops/math_ops.py:3066: to_int32 (from tensorflow.python.ops.math_ops) is deprecated and will be removed in a future version.\n",
      "Instructions for updating:\n",
      "Use tf.cast instead.\n"
     ]
    },
    {
     "name": "stderr",
     "output_type": "stream",
     "text": [
      "W0423 13:51:09.645484 139801443358464 deprecation.py:323] From /usr/local/lib/python3.5/dist-packages/tensorflow/python/ops/math_ops.py:3066: to_int32 (from tensorflow.python.ops.math_ops) is deprecated and will be removed in a future version.\n",
      "Instructions for updating:\n",
      "Use tf.cast instead.\n"
     ]
    },
    {
     "name": "stdout",
     "output_type": "stream",
     "text": [
      "Epoch 1/10\n",
      "8/8 [==============================] - 133s 17s/step - loss: 0.8803 - categorical_accuracy: 0.9494 - val_loss: 0.8507 - val_categorical_accuracy: 0.9630\n",
      "PK Score for epoch 1 is 0.5422\n",
      "Epoch 2/10\n",
      "8/8 [==============================] - 127s 16s/step - loss: 0.8658 - categorical_accuracy: 0.9627 - val_loss: 0.8477 - val_categorical_accuracy: 0.9655\n",
      "PK Score for epoch 2 is 0.4925\n",
      "Epoch 3/10\n",
      "8/8 [==============================] - 126s 16s/step - loss: 0.7563 - categorical_accuracy: 0.9732 - val_loss: 0.8159 - val_categorical_accuracy: 0.9754\n",
      "PK Score for epoch 3 is 0.4668\n",
      "Epoch 4/10\n",
      "8/8 [==============================] - 125s 16s/step - loss: 0.7981 - categorical_accuracy: 0.9779 - val_loss: 0.8713 - val_categorical_accuracy: 0.9747\n",
      "PK Score for epoch 4 is 0.4572\n",
      "Epoch 5/10\n",
      "8/8 [==============================] - 129s 16s/step - loss: 0.8155 - categorical_accuracy: 0.9793 - val_loss: 0.8854 - val_categorical_accuracy: 0.9791\n",
      "PK Score for epoch 5 is 0.4441\n",
      "Epoch 6/10\n",
      "8/8 [==============================] - 140s 17s/step - loss: 0.7513 - categorical_accuracy: 0.9844 - val_loss: 0.8261 - val_categorical_accuracy: 0.9839\n",
      "PK Score for epoch 6 is 0.4211\n",
      "Epoch 7/10\n",
      "8/8 [==============================] - 136s 17s/step - loss: 0.8198 - categorical_accuracy: 0.9847 - val_loss: 0.8295 - val_categorical_accuracy: 0.9826\n",
      "PK Score for epoch 7 is 0.4466\n",
      "Epoch 8/10\n",
      "8/8 [==============================] - 130s 16s/step - loss: 0.8501 - categorical_accuracy: 0.9841 - val_loss: 0.7853 - val_categorical_accuracy: 0.9807\n",
      "PK Score for epoch 8 is 0.4557\n",
      "Epoch 9/10\n",
      "8/8 [==============================] - 125s 16s/step - loss: 0.8130 - categorical_accuracy: 0.9852 - val_loss: 0.8374 - val_categorical_accuracy: 0.9835\n",
      "PK Score for epoch 9 is 0.4189\n",
      "Epoch 10/10\n",
      "8/8 [==============================] - 139s 17s/step - loss: 0.7772 - categorical_accuracy: 0.9863 - val_loss: 0.7894 - val_categorical_accuracy: 0.9802\n",
      "PK Score for epoch 10 is 0.4604\n",
      "Saved weights to disk\n"
     ]
    }
   ],
   "source": [
    "history, pkscores = net.train(train_files=train_files,\n",
    "                        val_files=val_files,\n",
    "                        test_file=test_file,\n",
    "                        batch_size=4, \n",
    "                        epochs=10,\n",
    "                        steps_per_epoch=8,\n",
    "                        maxlen=None,\n",
    "                        save=True)"
   ]
  },
  {
   "cell_type": "code",
   "execution_count": 6,
   "metadata": {},
   "outputs": [
    {
     "data": {
      "text/plain": [
       "[0.5421563641721251,\n",
       " 0.492466367224939,\n",
       " 0.4668073017663549,\n",
       " 0.45719996622965065,\n",
       " 0.4440609984143694,\n",
       " 0.4210544783651329,\n",
       " 0.4465883480298238,\n",
       " 0.45569016103171,\n",
       " 0.41894213093674193,\n",
       " 0.46043836338333816]"
      ]
     },
     "execution_count": 6,
     "metadata": {},
     "output_type": "execute_result"
    }
   ],
   "source": [
    "pkscores.on_train_end()"
   ]
  },
  {
   "cell_type": "markdown",
   "metadata": {},
   "source": [
    "# Visualizing Results"
   ]
  },
  {
   "cell_type": "markdown",
   "metadata": {},
   "source": [
    "## Loss and Accuracy during training"
   ]
  },
  {
   "cell_type": "code",
   "execution_count": 6,
   "metadata": {
    "scrolled": true
   },
   "outputs": [
    {
     "data": {
      "image/png": "[encoded data removed]",
      "text/plain": [
       "<Figure size 432x288 with 1 Axes>"
      ]
     },
     "metadata": {},
     "output_type": "display_data"
    },
    {
     "data": {
      "image/png": "[encoded data removed]",
      "text/plain": [
       "<Figure size 432x288 with 1 Axes>"
      ]
     },
     "metadata": {},
     "output_type": "display_data"
    }
   ],
   "source": [
    "# Plot training & validation accuracy values\n",
    "plt.plot(history.history['categorical_accuracy'])\n",
    "plt.plot(history.history['val_categorical_accuracy'])\n",
    "plt.title('Model accuracy')\n",
    "plt.ylabel('Accuracy')\n",
    "plt.xlabel('Epoch')\n",
    "plt.legend(['Train'], loc='upper left')\n",
    "plt.show()\n",
    "\n",
    "# Plot training & validation loss values\n",
    "plt.plot(history.history['loss'])\n",
    "plt.plot(history.history['val_loss'])\n",
    "plt.title('Model loss')\n",
    "plt.ylabel('Loss')\n",
    "plt.xlabel('Epoch')\n",
    "plt.legend(['Train'], loc='upper left')\n",
    "plt.show()"
   ]
  },
  {
   "cell_type": "code",
   "execution_count": null,
   "metadata": {},
   "outputs": [],
   "source": []
  }
 ],
 "metadata": {
  "kernelspec": {
   "display_name": "Python 3",
   "language": "python",
   "name": "python3"
  },
  "language_info": {
   "codemirror_mode": {
    "name": "ipython",
    "version": 3
   },
   "file_extension": ".py",
   "mimetype": "text/x-python",
   "name": "python",
   "nbconvert_exporter": "python",
   "pygments_lexer": "ipython3",
   "version": "3.5.3"
  }
 },
 "nbformat": 4,
 "nbformat_minor": 2
}
