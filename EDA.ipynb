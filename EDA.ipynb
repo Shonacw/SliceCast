{
 "cells": [
  {
   "cell_type": "markdown",
   "metadata": {},
   "source": [
    "# Exploratory Data Analysis\n",
    "\n",
    "This notebook contains basic data analysis on the Wiki-727k and podcast datasets. The intent is to gather information about the underlying structure and characteristics of each dataset. This notebook requires the raw text files to be located in the data directory with the following structure\n",
    "```bash\n",
    "├── SliceCast/\n",
    "│   ├── data/\n",
    "│   │   ├── podcasts/\n",
    "│   │   └── wiki-sample/\n",
    "```\n",
    "Included in this repository are both the podcast and wiki-sample text files. The podcasts are in raw .txt form and need not be modified, but the wiki-samples are located in a zip file and must be unzipped as there are 1000 files within the zip. "
   ]
  },
  {
   "cell_type": "code",
   "execution_count": 1,
   "metadata": {},
   "outputs": [
    {
     "name": "stdout",
     "output_type": "stream",
     "text": [
      "2.1.3\n"
     ]
    }
   ],
   "source": [
    "import numpy as np\n",
    "import pandas as pd\n",
    "import spacy\n",
    "from pathlib import Path\n",
    "import random\n",
    "import matplotlib.pyplot as plt\n",
    "import seaborn as sns\n",
    "from scipy import stats\n",
    "from src.spacyOps import createInferencePipe\n",
    "\n",
    "\n",
    "print(spacy.__version__)"
   ]
  },
  {
   "cell_type": "markdown",
   "metadata": {},
   "source": [
    "First we would like to run spacy NLP on each of the documents\n",
    "that we have randomly sampled from the larger dataset. Because they\n",
    "have been sampled at random, we expect that they will be representative\n",
    "of the entire dataset."
   ]
  },
  {
   "cell_type": "code",
   "execution_count": 2,
   "metadata": {},
   "outputs": [],
   "source": [
    "nlp = createInferencePipe()\n",
    "\n",
    "wikiDataPath = Path('./data/wiki-sample')\n",
    "wikiFiles = [x for x in wikiDataPath.glob('**/*.txt') if x.is_file()]"
   ]
  },
  {
   "cell_type": "code",
   "execution_count": 3,
   "metadata": {},
   "outputs": [
    {
     "name": "stdout",
     "output_type": "stream",
     "text": [
      "There are 1000 files in the wiki-sample directory\n",
      "Running SpaCy NLP on the files (this can take up to 5 minutes)\n"
     ]
    }
   ],
   "source": [
    "print('There are {} files in the wiki-sample directory'.format(len(wikiFiles)))\n",
    "print('Running SpaCy NLP on the files (this can take up to 5 minutes)')\n",
    "wikiDocs = [nlp(fo.read_text(encoding='utf-8')) for fo in wikiFiles]"
   ]
  },
  {
   "cell_type": "code",
   "execution_count": 4,
   "metadata": {},
   "outputs": [
    {
     "name": "stdout",
     "output_type": "stream",
     "text": [
      "There are 47 files in the podcast directory\n",
      "Running SpaCy NLP on the files (this will take a few minutes)\n"
     ]
    }
   ],
   "source": [
    "podcastDataPath = Path('./data/podcasts')\n",
    "podcastFiles = [x for x in podcastDataPath.glob('**/*.txt') if x.is_file()]\n",
    "\n",
    "print('There are {} files in the podcast directory'.format(len(podcastFiles)))\n",
    "print('Running SpaCy NLP on the files (this will take a few minutes)')\n",
    "\n",
    "podcastDocs = [nlp(fo.read_text(encoding='utf-8')) for fo in podcastFiles]"
   ]
  },
  {
   "cell_type": "markdown",
   "metadata": {},
   "source": [
    "First let's provide some stucture by organizing our documents into a\n",
    "pandas dataframe"
   ]
  },
  {
   "cell_type": "code",
   "execution_count": 5,
   "metadata": {},
   "outputs": [
    {
     "name": "stdout",
     "output_type": "stream",
     "text": [
      "  doc_name\n",
      "0  2061318\n",
      "1  6416879\n",
      "2  2838306\n",
      "3   574933\n",
      "4   118427\n",
      "  doc_name\n",
      "0   katy94\n",
      "1   tim362\n",
      "2   katy92\n",
      "3  katy115\n",
      "4   katy81\n"
     ]
    }
   ],
   "source": [
    "wiki_df = pd.DataFrame()\n",
    "wiki_df['doc_name'] = [str(x.stem) for x in wikiFiles]\n",
    "print(wiki_df.head())\n",
    "\n",
    "pod_df = pd.DataFrame()\n",
    "pod_df['doc_name'] = [str(x.stem) for x in podcastFiles]\n",
    "print(pod_df.head())"
   ]
  },
  {
   "cell_type": "markdown",
   "metadata": {},
   "source": [
    "Next let's compare some key characteristics about the 2 datasets\n",
    "\n",
    "Number of words - Right away, we can see that the podcasts are much longer\n",
    "on average than the wiki articles."
   ]
  },
  {
   "cell_type": "code",
   "execution_count": 6,
   "metadata": {},
   "outputs": [],
   "source": [
    "wiki_num_words = [len(x) for x in wikiDocs]\n",
    "wiki_df['num_words'] = wiki_num_words\n",
    "\n",
    "pod_num_words = [len(x) for x in podcastDocs]\n",
    "pod_df['num_words'] = pod_num_words"
   ]
  },
  {
   "cell_type": "code",
   "execution_count": 7,
   "metadata": {},
   "outputs": [],
   "source": [
    "# Let's add our spacy tokenized sentences and corresponding labels to the dataframe\n",
    "# number of sentences\n",
    "\n",
    "label_arr = []\n",
    "sent_arr = []\n",
    "for doc in wikiDocs:\n",
    "    labels = np.array(doc.user_data['labels'])\n",
    "    sents = np.array(doc.user_data['sents'], dtype=object)\n",
    "    label_arr.append(labels)\n",
    "    sent_arr.append(sents)\n",
    "\n",
    "wiki_df['sents'] = sent_arr\n",
    "wiki_df['labels'] = label_arr\n",
    "\n",
    "label_arr = []\n",
    "sent_arr = []\n",
    "for doc in podcastDocs:\n",
    "    labels = np.array(doc.user_data['labels'])\n",
    "    sents = np.array(doc.user_data['sents'], dtype=object)\n",
    "    label_arr.append(labels)\n",
    "    sent_arr.append(sents)\n",
    "\n",
    "pod_df['sents'] = sent_arr\n",
    "pod_df['labels'] = label_arr"
   ]
  },
  {
   "cell_type": "code",
   "execution_count": 8,
   "metadata": {},
   "outputs": [
    {
     "data": {
      "image/png": "[encoded data removed]",
      "text/plain": [
       "<Figure size 432x288 with 1 Axes>"
      ]
     },
     "metadata": {},
     "output_type": "display_data"
    }
   ],
   "source": [
    "wiki_df['num_sent'] = wiki_df.apply(lambda row: len(row.sents), axis=1)\n",
    "pod_df['num_sent'] = pod_df.apply(lambda row: len(row.sents), axis=1)\n",
    "\n",
    "sns.distplot( wiki_df['num_sent'] , color=\"skyblue\", label='Wiki')\n",
    "sns.distplot( pod_df['num_sent'] , color=\"red\", label='Podcast')\n",
    "plt.legend()\n",
    "plt.show()\n"
   ]
  },
  {
   "cell_type": "code",
   "execution_count": 9,
   "metadata": {},
   "outputs": [
    {
     "data": {
      "image/png": "[encoded data removed]",
      "text/plain": [
       "<Figure size 432x288 with 1 Axes>"
      ]
     },
     "metadata": {},
     "output_type": "display_data"
    }
   ],
   "source": [
    "# number of segments\n",
    "wiki_df['num_seg'] = wiki_df.apply(lambda row: sum(row.labels), axis=1)\n",
    "pod_df['num_seg'] = pod_df.apply(lambda row: sum(row.labels), axis=1)\n",
    "\n",
    "sns.distplot( wiki_df['num_seg'] , color=\"skyblue\", label='Wiki')\n",
    "sns.distplot( pod_df['num_seg'] , color=\"red\", label='Podcast')\n",
    "plt.legend()\n",
    "plt.show()"
   ]
  },
  {
   "cell_type": "code",
   "execution_count": 10,
   "metadata": {},
   "outputs": [
    {
     "data": {
      "image/png": "[encoded data removed]",
      "text/plain": [
       "<Figure size 432x288 with 1 Axes>"
      ]
     },
     "metadata": {},
     "output_type": "display_data"
    },
    {
     "name": "stdout",
     "output_type": "stream",
     "text": [
      "The median segment length for wiki is 7.000\n",
      "The median segment length for podcasts is 59.556\n"
     ]
    }
   ],
   "source": [
    "# average segment length\n",
    "wiki_df['avg_seg_len'] = wiki_df.apply(lambda row: row.num_sent/row.num_seg, axis=1)\n",
    "pod_df['avg_seg_len'] = pod_df.apply(lambda row: row.num_sent/row.num_seg, axis=1)\n",
    "pod_df = pod_df.mask((pod_df['avg_seg_len'] - pod_df['avg_seg_len'].mean()).abs() > 2 * pod_df['avg_seg_len'].std())\n",
    "pod_df = pod_df.dropna()\n",
    "\n",
    "\n",
    "sns.distplot( wiki_df['avg_seg_len'] , color=\"skyblue\", label='Wiki')\n",
    "sns.distplot( pod_df['avg_seg_len'] , color=\"red\", label='Podcast')\n",
    "plt.legend()\n",
    "plt.show()\n",
    "\n",
    "avg_seg_wiki = wiki_df['avg_seg_len'].median()\n",
    "avg_seg_pod = pod_df['avg_seg_len'].median()\n",
    "print('The median segment length for wiki is {:0.3f}'.format(avg_seg_wiki))\n",
    "print('The median segment length for podcasts is {:0.3f}'.format(avg_seg_pod))"
   ]
  }
 ],
 "metadata": {
  "file_extension": ".py",
  "kernelspec": {
   "display_name": "Python 3",
   "language": "python",
   "name": "python3"
  },
  "language_info": {
   "codemirror_mode": {
    "name": "ipython",
    "version": 3
   },
   "file_extension": ".py",
   "mimetype": "text/x-python",
   "name": "python",
   "nbconvert_exporter": "python",
   "pygments_lexer": "ipython3",
   "version": "3.5.3"
  },
  "mimetype": "text/x-python",
  "name": "python",
  "npconvert_exporter": "python",
  "pygments_lexer": "ipython3",
  "version": 3
 },
 "nbformat": 4,
 "nbformat_minor": 2
}
